{
 "cells": [
  {
   "cell_type": "markdown",
   "metadata": {},
   "source": [
    "# MLPRegressor"
   ]
  },
  {
   "cell_type": "code",
   "execution_count": 1,
   "metadata": {},
   "outputs": [],
   "source": [
    "import numpy as np\n",
    "import pandas as pd\n",
    "\n",
    "import matplotlib.pyplot as plt\n",
    "\n",
    "from sklearn.model_selection import train_test_split, RandomizedSearchCV\n",
    "from sklearn.preprocessing import StandardScaler\n",
    "from sklearn.pipeline import Pipeline\n",
    "from sklearn.neural_network import MLPRegressor\n",
    "from sklearn.feature_selection import SelectFromModel\n",
    "from sklearn.metrics import r2_score, mean_absolute_percentage_error, mean_absolute_error, mean_squared_error\n",
    "from statsmodels.tools.eval_measures import stde\n"
   ]
  },
  {
   "cell_type": "markdown",
   "metadata": {},
   "source": [
    "## Read the etl info results"
   ]
  },
  {
   "cell_type": "code",
   "execution_count": 2,
   "metadata": {},
   "outputs": [
    {
     "data": {
      "text/html": [
       "<div>\n",
       "<style scoped>\n",
       "    .dataframe tbody tr th:only-of-type {\n",
       "        vertical-align: middle;\n",
       "    }\n",
       "\n",
       "    .dataframe tbody tr th {\n",
       "        vertical-align: top;\n",
       "    }\n",
       "\n",
       "    .dataframe thead th {\n",
       "        text-align: right;\n",
       "    }\n",
       "</style>\n",
       "<table border=\"1\" class=\"dataframe\">\n",
       "  <thead>\n",
       "    <tr style=\"text-align: right;\">\n",
       "      <th></th>\n",
       "      <th>remove_time_features</th>\n",
       "      <th>generic_features</th>\n",
       "      <th>remove_atypical_values</th>\n",
       "      <th>feature_combination</th>\n",
       "      <th>remove_feature_selection</th>\n",
       "      <th>remove_invalid_correlated_features</th>\n",
       "    </tr>\n",
       "  </thead>\n",
       "  <tbody>\n",
       "    <tr>\n",
       "      <th>0</th>\n",
       "      <td>False</td>\n",
       "      <td>False</td>\n",
       "      <td>False</td>\n",
       "      <td>False</td>\n",
       "      <td>False</td>\n",
       "      <td>False</td>\n",
       "    </tr>\n",
       "  </tbody>\n",
       "</table>\n",
       "</div>"
      ],
      "text/plain": [
       "   remove_time_features  generic_features  remove_atypical_values  \\\n",
       "0                 False             False                   False   \n",
       "\n",
       "   feature_combination  remove_feature_selection  \\\n",
       "0                False                     False   \n",
       "\n",
       "   remove_invalid_correlated_features  \n",
       "0                               False  "
      ]
     },
     "execution_count": 2,
     "metadata": {},
     "output_type": "execute_result"
    }
   ],
   "source": [
    "df_info = pd.read_csv('../../dataset_clean/options_csv_v1_etl.csv')\n",
    "df_info"
   ]
  },
  {
   "cell_type": "markdown",
   "metadata": {},
   "source": [
    "## Read the dataset"
   ]
  },
  {
   "cell_type": "code",
   "execution_count": 3,
   "metadata": {},
   "outputs": [
    {
     "data": {
      "text/html": [
       "<div>\n",
       "<style scoped>\n",
       "    .dataframe tbody tr th:only-of-type {\n",
       "        vertical-align: middle;\n",
       "    }\n",
       "\n",
       "    .dataframe tbody tr th {\n",
       "        vertical-align: top;\n",
       "    }\n",
       "\n",
       "    .dataframe thead th {\n",
       "        text-align: right;\n",
       "    }\n",
       "</style>\n",
       "<table border=\"1\" class=\"dataframe\">\n",
       "  <thead>\n",
       "    <tr style=\"text-align: right;\">\n",
       "      <th></th>\n",
       "      <th>SensorTime</th>\n",
       "      <th>CaptureTime</th>\n",
       "      <th>Stage</th>\n",
       "      <th>Discharge</th>\n",
       "      <th>grayMean</th>\n",
       "      <th>graySigma</th>\n",
       "      <th>entropyMean</th>\n",
       "      <th>entropySigma</th>\n",
       "      <th>hMean</th>\n",
       "      <th>hSigma</th>\n",
       "      <th>...</th>\n",
       "      <th>WeirPt2X</th>\n",
       "      <th>WeirPt2Y</th>\n",
       "      <th>WwRawLineMin</th>\n",
       "      <th>WwRawLineMax</th>\n",
       "      <th>WwRawLineMean</th>\n",
       "      <th>WwRawLineSigma</th>\n",
       "      <th>WwCurveLineMin</th>\n",
       "      <th>WwCurveLineMax</th>\n",
       "      <th>WwCurveLineMean</th>\n",
       "      <th>WwCurveLineSigma</th>\n",
       "    </tr>\n",
       "  </thead>\n",
       "  <tbody>\n",
       "    <tr>\n",
       "      <th>0</th>\n",
       "      <td>2012-06-09 13:15:00</td>\n",
       "      <td>2012-06-09T13:09:07</td>\n",
       "      <td>2.99</td>\n",
       "      <td>916.0</td>\n",
       "      <td>97.405096</td>\n",
       "      <td>39.623303</td>\n",
       "      <td>0.203417</td>\n",
       "      <td>0.979825</td>\n",
       "      <td>105.368375</td>\n",
       "      <td>41.572939</td>\n",
       "      <td>...</td>\n",
       "      <td>-1</td>\n",
       "      <td>-1</td>\n",
       "      <td>0.0</td>\n",
       "      <td>0.0</td>\n",
       "      <td>0.000000</td>\n",
       "      <td>0.000000</td>\n",
       "      <td>0.0</td>\n",
       "      <td>0.0</td>\n",
       "      <td>0.000000</td>\n",
       "      <td>0.000000</td>\n",
       "    </tr>\n",
       "    <tr>\n",
       "      <th>1</th>\n",
       "      <td>2012-06-09 13:15:00</td>\n",
       "      <td>2012-06-09T13:10:29</td>\n",
       "      <td>2.99</td>\n",
       "      <td>916.0</td>\n",
       "      <td>104.066757</td>\n",
       "      <td>40.179745</td>\n",
       "      <td>0.206835</td>\n",
       "      <td>1.002624</td>\n",
       "      <td>112.399458</td>\n",
       "      <td>41.795584</td>\n",
       "      <td>...</td>\n",
       "      <td>-1</td>\n",
       "      <td>-1</td>\n",
       "      <td>0.0</td>\n",
       "      <td>0.0</td>\n",
       "      <td>0.000000</td>\n",
       "      <td>0.000000</td>\n",
       "      <td>0.0</td>\n",
       "      <td>0.0</td>\n",
       "      <td>0.000000</td>\n",
       "      <td>0.000000</td>\n",
       "    </tr>\n",
       "    <tr>\n",
       "      <th>2</th>\n",
       "      <td>2012-06-09 13:45:00</td>\n",
       "      <td>2012-06-09T13:44:01</td>\n",
       "      <td>2.96</td>\n",
       "      <td>873.0</td>\n",
       "      <td>105.636831</td>\n",
       "      <td>40.533218</td>\n",
       "      <td>0.204756</td>\n",
       "      <td>0.994246</td>\n",
       "      <td>114.021526</td>\n",
       "      <td>42.145582</td>\n",
       "      <td>...</td>\n",
       "      <td>-1</td>\n",
       "      <td>-1</td>\n",
       "      <td>0.0</td>\n",
       "      <td>0.0</td>\n",
       "      <td>0.000000</td>\n",
       "      <td>0.000000</td>\n",
       "      <td>0.0</td>\n",
       "      <td>0.0</td>\n",
       "      <td>0.000000</td>\n",
       "      <td>0.000000</td>\n",
       "    </tr>\n",
       "    <tr>\n",
       "      <th>3</th>\n",
       "      <td>2012-06-09 14:45:00</td>\n",
       "      <td>2012-06-09T14:44:30</td>\n",
       "      <td>2.94</td>\n",
       "      <td>846.0</td>\n",
       "      <td>104.418949</td>\n",
       "      <td>41.752678</td>\n",
       "      <td>0.202428</td>\n",
       "      <td>0.983170</td>\n",
       "      <td>112.612830</td>\n",
       "      <td>43.575351</td>\n",
       "      <td>...</td>\n",
       "      <td>-1</td>\n",
       "      <td>-1</td>\n",
       "      <td>0.0</td>\n",
       "      <td>0.0</td>\n",
       "      <td>0.000000</td>\n",
       "      <td>0.000000</td>\n",
       "      <td>0.0</td>\n",
       "      <td>0.0</td>\n",
       "      <td>0.000000</td>\n",
       "      <td>0.000000</td>\n",
       "    </tr>\n",
       "    <tr>\n",
       "      <th>4</th>\n",
       "      <td>2012-06-09 15:45:00</td>\n",
       "      <td>2012-06-09T15:44:59</td>\n",
       "      <td>2.94</td>\n",
       "      <td>846.0</td>\n",
       "      <td>106.763541</td>\n",
       "      <td>44.442097</td>\n",
       "      <td>0.202661</td>\n",
       "      <td>0.989625</td>\n",
       "      <td>114.839424</td>\n",
       "      <td>46.302008</td>\n",
       "      <td>...</td>\n",
       "      <td>-1</td>\n",
       "      <td>-1</td>\n",
       "      <td>0.0</td>\n",
       "      <td>0.0</td>\n",
       "      <td>0.000000</td>\n",
       "      <td>0.000000</td>\n",
       "      <td>0.0</td>\n",
       "      <td>0.0</td>\n",
       "      <td>0.000000</td>\n",
       "      <td>0.000000</td>\n",
       "    </tr>\n",
       "    <tr>\n",
       "      <th>...</th>\n",
       "      <td>...</td>\n",
       "      <td>...</td>\n",
       "      <td>...</td>\n",
       "      <td>...</td>\n",
       "      <td>...</td>\n",
       "      <td>...</td>\n",
       "      <td>...</td>\n",
       "      <td>...</td>\n",
       "      <td>...</td>\n",
       "      <td>...</td>\n",
       "      <td>...</td>\n",
       "      <td>...</td>\n",
       "      <td>...</td>\n",
       "      <td>...</td>\n",
       "      <td>...</td>\n",
       "      <td>...</td>\n",
       "      <td>...</td>\n",
       "      <td>...</td>\n",
       "      <td>...</td>\n",
       "      <td>...</td>\n",
       "      <td>...</td>\n",
       "    </tr>\n",
       "    <tr>\n",
       "      <th>42054</th>\n",
       "      <td>2019-10-11 09:00:00</td>\n",
       "      <td>2019-10-11T08:59:53</td>\n",
       "      <td>2.54</td>\n",
       "      <td>434.0</td>\n",
       "      <td>82.872720</td>\n",
       "      <td>57.702652</td>\n",
       "      <td>0.221708</td>\n",
       "      <td>1.076393</td>\n",
       "      <td>87.260572</td>\n",
       "      <td>61.485334</td>\n",
       "      <td>...</td>\n",
       "      <td>2446</td>\n",
       "      <td>1900</td>\n",
       "      <td>9284.0</td>\n",
       "      <td>77521.0</td>\n",
       "      <td>38385.370066</td>\n",
       "      <td>15952.029728</td>\n",
       "      <td>0.0</td>\n",
       "      <td>70085.0</td>\n",
       "      <td>37550.894823</td>\n",
       "      <td>16444.401209</td>\n",
       "    </tr>\n",
       "    <tr>\n",
       "      <th>42055</th>\n",
       "      <td>2019-10-11 10:00:00</td>\n",
       "      <td>2019-10-11T09:59:52</td>\n",
       "      <td>2.54</td>\n",
       "      <td>434.0</td>\n",
       "      <td>89.028383</td>\n",
       "      <td>55.840861</td>\n",
       "      <td>0.233168</td>\n",
       "      <td>1.124774</td>\n",
       "      <td>94.175906</td>\n",
       "      <td>59.006132</td>\n",
       "      <td>...</td>\n",
       "      <td>2440</td>\n",
       "      <td>1900</td>\n",
       "      <td>10092.0</td>\n",
       "      <td>74614.0</td>\n",
       "      <td>40162.989292</td>\n",
       "      <td>15467.708856</td>\n",
       "      <td>0.0</td>\n",
       "      <td>70061.0</td>\n",
       "      <td>39397.339095</td>\n",
       "      <td>16009.008049</td>\n",
       "    </tr>\n",
       "    <tr>\n",
       "      <th>42056</th>\n",
       "      <td>2019-10-11 11:00:00</td>\n",
       "      <td>2019-10-11T10:59:52</td>\n",
       "      <td>2.54</td>\n",
       "      <td>434.0</td>\n",
       "      <td>94.722097</td>\n",
       "      <td>54.355753</td>\n",
       "      <td>0.240722</td>\n",
       "      <td>1.151833</td>\n",
       "      <td>100.534577</td>\n",
       "      <td>56.921028</td>\n",
       "      <td>...</td>\n",
       "      <td>2447</td>\n",
       "      <td>1900</td>\n",
       "      <td>7067.0</td>\n",
       "      <td>83260.0</td>\n",
       "      <td>42095.946590</td>\n",
       "      <td>16770.357949</td>\n",
       "      <td>0.0</td>\n",
       "      <td>76335.0</td>\n",
       "      <td>41350.006568</td>\n",
       "      <td>17489.374617</td>\n",
       "    </tr>\n",
       "    <tr>\n",
       "      <th>42057</th>\n",
       "      <td>2019-10-11 12:00:00</td>\n",
       "      <td>2019-10-11T11:59:53</td>\n",
       "      <td>2.54</td>\n",
       "      <td>434.0</td>\n",
       "      <td>96.693270</td>\n",
       "      <td>52.787629</td>\n",
       "      <td>0.244789</td>\n",
       "      <td>1.171987</td>\n",
       "      <td>102.891159</td>\n",
       "      <td>55.083532</td>\n",
       "      <td>...</td>\n",
       "      <td>2443</td>\n",
       "      <td>1900</td>\n",
       "      <td>6283.0</td>\n",
       "      <td>83045.0</td>\n",
       "      <td>45345.490954</td>\n",
       "      <td>17498.432849</td>\n",
       "      <td>0.0</td>\n",
       "      <td>78882.0</td>\n",
       "      <td>44553.920296</td>\n",
       "      <td>18268.294896</td>\n",
       "    </tr>\n",
       "    <tr>\n",
       "      <th>42058</th>\n",
       "      <td>2019-10-11 12:45:00</td>\n",
       "      <td>2019-10-11T12:59:52</td>\n",
       "      <td>2.54</td>\n",
       "      <td>434.0</td>\n",
       "      <td>98.738399</td>\n",
       "      <td>52.025453</td>\n",
       "      <td>0.252812</td>\n",
       "      <td>1.213278</td>\n",
       "      <td>105.292067</td>\n",
       "      <td>53.994155</td>\n",
       "      <td>...</td>\n",
       "      <td>2436</td>\n",
       "      <td>1900</td>\n",
       "      <td>7375.0</td>\n",
       "      <td>89813.0</td>\n",
       "      <td>47877.870782</td>\n",
       "      <td>19963.166359</td>\n",
       "      <td>0.0</td>\n",
       "      <td>82630.0</td>\n",
       "      <td>47280.270559</td>\n",
       "      <td>20559.358767</td>\n",
       "    </tr>\n",
       "  </tbody>\n",
       "</table>\n",
       "<p>42059 rows × 48 columns</p>\n",
       "</div>"
      ],
      "text/plain": [
       "                SensorTime          CaptureTime  Stage  Discharge    grayMean  \\\n",
       "0      2012-06-09 13:15:00  2012-06-09T13:09:07   2.99      916.0   97.405096   \n",
       "1      2012-06-09 13:15:00  2012-06-09T13:10:29   2.99      916.0  104.066757   \n",
       "2      2012-06-09 13:45:00  2012-06-09T13:44:01   2.96      873.0  105.636831   \n",
       "3      2012-06-09 14:45:00  2012-06-09T14:44:30   2.94      846.0  104.418949   \n",
       "4      2012-06-09 15:45:00  2012-06-09T15:44:59   2.94      846.0  106.763541   \n",
       "...                    ...                  ...    ...        ...         ...   \n",
       "42054  2019-10-11 09:00:00  2019-10-11T08:59:53   2.54      434.0   82.872720   \n",
       "42055  2019-10-11 10:00:00  2019-10-11T09:59:52   2.54      434.0   89.028383   \n",
       "42056  2019-10-11 11:00:00  2019-10-11T10:59:52   2.54      434.0   94.722097   \n",
       "42057  2019-10-11 12:00:00  2019-10-11T11:59:53   2.54      434.0   96.693270   \n",
       "42058  2019-10-11 12:45:00  2019-10-11T12:59:52   2.54      434.0   98.738399   \n",
       "\n",
       "       graySigma  entropyMean  entropySigma       hMean     hSigma  ...  \\\n",
       "0      39.623303     0.203417      0.979825  105.368375  41.572939  ...   \n",
       "1      40.179745     0.206835      1.002624  112.399458  41.795584  ...   \n",
       "2      40.533218     0.204756      0.994246  114.021526  42.145582  ...   \n",
       "3      41.752678     0.202428      0.983170  112.612830  43.575351  ...   \n",
       "4      44.442097     0.202661      0.989625  114.839424  46.302008  ...   \n",
       "...          ...          ...           ...         ...        ...  ...   \n",
       "42054  57.702652     0.221708      1.076393   87.260572  61.485334  ...   \n",
       "42055  55.840861     0.233168      1.124774   94.175906  59.006132  ...   \n",
       "42056  54.355753     0.240722      1.151833  100.534577  56.921028  ...   \n",
       "42057  52.787629     0.244789      1.171987  102.891159  55.083532  ...   \n",
       "42058  52.025453     0.252812      1.213278  105.292067  53.994155  ...   \n",
       "\n",
       "       WeirPt2X  WeirPt2Y  WwRawLineMin  WwRawLineMax  WwRawLineMean  \\\n",
       "0            -1        -1           0.0           0.0       0.000000   \n",
       "1            -1        -1           0.0           0.0       0.000000   \n",
       "2            -1        -1           0.0           0.0       0.000000   \n",
       "3            -1        -1           0.0           0.0       0.000000   \n",
       "4            -1        -1           0.0           0.0       0.000000   \n",
       "...         ...       ...           ...           ...            ...   \n",
       "42054      2446      1900        9284.0       77521.0   38385.370066   \n",
       "42055      2440      1900       10092.0       74614.0   40162.989292   \n",
       "42056      2447      1900        7067.0       83260.0   42095.946590   \n",
       "42057      2443      1900        6283.0       83045.0   45345.490954   \n",
       "42058      2436      1900        7375.0       89813.0   47877.870782   \n",
       "\n",
       "       WwRawLineSigma  WwCurveLineMin  WwCurveLineMax  WwCurveLineMean  \\\n",
       "0            0.000000             0.0             0.0         0.000000   \n",
       "1            0.000000             0.0             0.0         0.000000   \n",
       "2            0.000000             0.0             0.0         0.000000   \n",
       "3            0.000000             0.0             0.0         0.000000   \n",
       "4            0.000000             0.0             0.0         0.000000   \n",
       "...               ...             ...             ...              ...   \n",
       "42054    15952.029728             0.0         70085.0     37550.894823   \n",
       "42055    15467.708856             0.0         70061.0     39397.339095   \n",
       "42056    16770.357949             0.0         76335.0     41350.006568   \n",
       "42057    17498.432849             0.0         78882.0     44553.920296   \n",
       "42058    19963.166359             0.0         82630.0     47280.270559   \n",
       "\n",
       "       WwCurveLineSigma  \n",
       "0              0.000000  \n",
       "1              0.000000  \n",
       "2              0.000000  \n",
       "3              0.000000  \n",
       "4              0.000000  \n",
       "...                 ...  \n",
       "42054      16444.401209  \n",
       "42055      16009.008049  \n",
       "42056      17489.374617  \n",
       "42057      18268.294896  \n",
       "42058      20559.358767  \n",
       "\n",
       "[42059 rows x 48 columns]"
      ]
     },
     "execution_count": 3,
     "metadata": {},
     "output_type": "execute_result"
    }
   ],
   "source": [
    "df = pd.read_csv('../../dataset_clean/PlatteRiverWeir_features_v1_clean.csv')\n",
    "df"
   ]
  },
  {
   "cell_type": "code",
   "execution_count": 4,
   "metadata": {},
   "outputs": [],
   "source": [
    "df['SensorTime'] = pd.to_datetime(df['SensorTime'])\n",
    "df['Year'] = df['SensorTime'].dt.year"
   ]
  },
  {
   "cell_type": "code",
   "execution_count": 5,
   "metadata": {},
   "outputs": [
    {
     "data": {
      "text/plain": [
       "SensorTime          datetime64[ns]\n",
       "CaptureTime                 object\n",
       "Stage                      float64\n",
       "Discharge                  float64\n",
       "grayMean                   float64\n",
       "graySigma                  float64\n",
       "entropyMean                float64\n",
       "entropySigma               float64\n",
       "hMean                      float64\n",
       "hSigma                     float64\n",
       "sMean                      float64\n",
       "sSigma                     float64\n",
       "vMean                      float64\n",
       "vSigma                     float64\n",
       "areaFeatCount                int64\n",
       "grayMean0                  float64\n",
       "graySigma0                 float64\n",
       "entropyMean0               float64\n",
       "entropySigma0              float64\n",
       "hMean0                     float64\n",
       "hSigma0                    float64\n",
       "sMean0                     float64\n",
       "sSigma0                    float64\n",
       "vMean0                     float64\n",
       "vSigma0                    float64\n",
       "grayMean1                  float64\n",
       "graySigma1                 float64\n",
       "entropyMean1               float64\n",
       "entropySigma1              float64\n",
       "hMean1                     float64\n",
       "hSigma1                    float64\n",
       "sMean1                     float64\n",
       "sSigma1                    float64\n",
       "vMean1                     float64\n",
       "vSigma1                    float64\n",
       "WeirAngle                  float64\n",
       "WeirPt1X                     int64\n",
       "WeirPt1Y                     int64\n",
       "WeirPt2X                     int64\n",
       "WeirPt2Y                     int64\n",
       "WwRawLineMin               float64\n",
       "WwRawLineMax               float64\n",
       "WwRawLineMean              float64\n",
       "WwRawLineSigma             float64\n",
       "WwCurveLineMin             float64\n",
       "WwCurveLineMax             float64\n",
       "WwCurveLineMean            float64\n",
       "WwCurveLineSigma           float64\n",
       "Year                         int64\n",
       "dtype: object"
      ]
     },
     "execution_count": 5,
     "metadata": {},
     "output_type": "execute_result"
    }
   ],
   "source": [
    "df.dtypes"
   ]
  },
  {
   "cell_type": "code",
   "execution_count": 6,
   "metadata": {},
   "outputs": [],
   "source": [
    "df = df[(df.Stage > 0) & (df.Discharge > 0)]"
   ]
  },
  {
   "cell_type": "markdown",
   "metadata": {},
   "source": [
    "## Divide dataset to X and Y"
   ]
  },
  {
   "cell_type": "code",
   "execution_count": 7,
   "metadata": {},
   "outputs": [],
   "source": [
    "np.random.seed(0)\n",
    "\n",
    "df_train = df[(df.Year >= 2012) & (df.Year <= 2017)]\n",
    "df_train = df_train.iloc[np.random.permutation(len(df_train))]\n",
    "\n",
    "df_test = df[(df.Year >= 2018) & (df.Year <= 2019)]"
   ]
  },
  {
   "cell_type": "code",
   "execution_count": 8,
   "metadata": {},
   "outputs": [],
   "source": [
    "df_train = df_train.drop(columns=[\"Year\", \"SensorTime\", \"CaptureTime\"])\n",
    "df_test = df_test.drop(columns=[\"Year\", \"SensorTime\", \"CaptureTime\"])"
   ]
  },
  {
   "cell_type": "code",
   "execution_count": 9,
   "metadata": {},
   "outputs": [],
   "source": [
    "y_train = df_train[\"Stage\"]\n",
    "X_train = df_train.drop(columns=[\"Stage\", \"Discharge\"])\n",
    "\n",
    "y_test = df_test[\"Stage\"]\n",
    "X_test = df_test.drop(columns=[\"Stage\", \"Discharge\"])"
   ]
  },
  {
   "cell_type": "code",
   "execution_count": 10,
   "metadata": {},
   "outputs": [],
   "source": [
    "#X_train, X_test, y_train, y_test = train_test_split(X, y, test_size=0.33, random_state=0)"
   ]
  },
  {
   "cell_type": "markdown",
   "metadata": {},
   "source": [
    "## Train model"
   ]
  },
  {
   "cell_type": "code",
   "execution_count": 11,
   "metadata": {},
   "outputs": [],
   "source": [
    "pipeline = Pipeline([\n",
    "    ('scaler', StandardScaler()),\n",
    "    ('clf', MLPRegressor(shuffle=False, max_iter=2000))\n",
    "])\n",
    "\n",
    "#param_grid = {'clf__hidden_layer_sizes': [(10), (10, 20), (10, 5, 15), (20, 30, 10, 15)], 'clf__alpha': np.arange(1e-3, 1, 0.001), 'clf__learning_rate_init': np.arange(1e-3, 0.1, 0.001), 'clf__activation': ['tanh', 'relu']}\n",
    "\n",
    "param_grid = {'clf__hidden_layer_sizes': [(256, 256, 128, 128, 64), (512, 256), (128, 64, 64, 32), (512, 256, 128, 128)], 'clf__alpha': np.arange(1e-3, 0.1, 0.001), 'clf__activation': ['tanh', 'relu']}\n",
    "\n",
    "clf = RandomizedSearchCV(pipeline, param_distributions=param_grid, n_iter=10, n_jobs=8, verbose=3, scoring=\"neg_mean_squared_error\")"
   ]
  },
  {
   "cell_type": "code",
   "execution_count": 12,
   "metadata": {},
   "outputs": [
    {
     "name": "stdout",
     "output_type": "stream",
     "text": [
      "Fitting 5 folds for each of 10 candidates, totalling 50 fits\n",
      "[CV 2/5] END clf__activation=tanh, clf__alpha=0.095, clf__hidden_layer_sizes=(128, 64, 64, 32);, score=-0.061 total time=  34.8s\n",
      "[CV 1/5] END clf__activation=tanh, clf__alpha=0.095, clf__hidden_layer_sizes=(128, 64, 64, 32);, score=-0.061 total time=  38.9s\n",
      "[CV 3/5] END clf__activation=tanh, clf__alpha=0.095, clf__hidden_layer_sizes=(128, 64, 64, 32);, score=-0.064 total time=  39.8s\n",
      "[CV 4/5] END clf__activation=tanh, clf__alpha=0.095, clf__hidden_layer_sizes=(128, 64, 64, 32);, score=-0.064 total time=  37.9s\n",
      "[CV 5/5] END clf__activation=tanh, clf__alpha=0.095, clf__hidden_layer_sizes=(128, 64, 64, 32);, score=-0.055 total time=  40.7s\n",
      "[CV 3/5] END clf__activation=tanh, clf__alpha=0.019000000000000003, clf__hidden_layer_sizes=(256, 256, 128, 128, 64);, score=-0.057 total time= 1.8min\n",
      "[CV 4/5] END clf__activation=tanh, clf__alpha=0.019000000000000003, clf__hidden_layer_sizes=(256, 256, 128, 128, 64);, score=-0.061 total time= 2.4min\n",
      "[CV 1/5] END clf__activation=tanh, clf__alpha=0.019000000000000003, clf__hidden_layer_sizes=(256, 256, 128, 128, 64);, score=-0.048 total time= 2.8min\n",
      "[CV 2/5] END clf__activation=tanh, clf__alpha=0.019000000000000003, clf__hidden_layer_sizes=(256, 256, 128, 128, 64);, score=-0.050 total time= 3.1min\n",
      "[CV 5/5] END clf__activation=tanh, clf__alpha=0.019000000000000003, clf__hidden_layer_sizes=(256, 256, 128, 128, 64);, score=-0.055 total time= 3.7min\n",
      "[CV 1/5] END clf__activation=tanh, clf__alpha=0.064, clf__hidden_layer_sizes=(512, 256, 128, 128);, score=-0.054 total time= 5.9min\n",
      "[CV 1/5] END clf__activation=tanh, clf__alpha=0.026000000000000002, clf__hidden_layer_sizes=(512, 256);, score=-0.061 total time= 3.8min\n",
      "[CV 2/5] END clf__activation=tanh, clf__alpha=0.026000000000000002, clf__hidden_layer_sizes=(512, 256);, score=-0.055 total time= 3.6min\n",
      "[CV 3/5] END clf__activation=tanh, clf__alpha=0.026000000000000002, clf__hidden_layer_sizes=(512, 256);, score=-0.057 total time= 3.4min\n",
      "[CV 1/5] END clf__activation=tanh, clf__alpha=0.005, clf__hidden_layer_sizes=(128, 64, 64, 32);, score=-0.053 total time=  35.0s\n",
      "[CV 2/5] END clf__activation=tanh, clf__alpha=0.005, clf__hidden_layer_sizes=(128, 64, 64, 32);, score=-0.049 total time=  33.2s\n",
      "[CV 3/5] END clf__activation=tanh, clf__alpha=0.005, clf__hidden_layer_sizes=(128, 64, 64, 32);, score=-0.049 total time=  27.4s\n",
      "[CV 4/5] END clf__activation=tanh, clf__alpha=0.005, clf__hidden_layer_sizes=(128, 64, 64, 32);, score=-0.054 total time=  29.5s\n",
      "[CV 5/5] END clf__activation=tanh, clf__alpha=0.005, clf__hidden_layer_sizes=(128, 64, 64, 32);, score=-0.051 total time=  28.0s\n",
      "[CV 2/5] END clf__activation=tanh, clf__alpha=0.064, clf__hidden_layer_sizes=(512, 256, 128, 128);, score=-0.056 total time= 7.2min\n",
      "[CV 4/5] END clf__activation=tanh, clf__alpha=0.026000000000000002, clf__hidden_layer_sizes=(512, 256);, score=-0.061 total time= 3.3min\n",
      "[CV 5/5] END clf__activation=tanh, clf__alpha=0.064, clf__hidden_layer_sizes=(512, 256, 128, 128);, score=-0.054 total time= 7.5min\n",
      "[CV 5/5] END clf__activation=tanh, clf__alpha=0.026000000000000002, clf__hidden_layer_sizes=(512, 256);, score=-0.057 total time= 3.6min\n",
      "[CV 3/5] END clf__activation=tanh, clf__alpha=0.064, clf__hidden_layer_sizes=(512, 256, 128, 128);, score=-0.047 total time= 8.8min\n",
      "[CV 4/5] END clf__activation=tanh, clf__alpha=0.064, clf__hidden_layer_sizes=(512, 256, 128, 128);, score=-0.061 total time= 8.4min\n",
      "[CV 2/5] END clf__activation=tanh, clf__alpha=0.014000000000000002, clf__hidden_layer_sizes=(512, 256);, score=-0.058 total time= 3.3min\n",
      "[CV 1/5] END clf__activation=tanh, clf__alpha=0.014000000000000002, clf__hidden_layer_sizes=(512, 256);, score=-0.059 total time= 3.7min\n",
      "[CV 3/5] END clf__activation=tanh, clf__alpha=0.014000000000000002, clf__hidden_layer_sizes=(512, 256);, score=-0.061 total time= 4.0min\n",
      "[CV 3/5] END clf__activation=tanh, clf__alpha=0.035, clf__hidden_layer_sizes=(512, 256);, score=-0.063 total time= 3.1min\n",
      "[CV 5/5] END clf__activation=tanh, clf__alpha=0.014000000000000002, clf__hidden_layer_sizes=(512, 256);, score=-0.053 total time= 3.7min\n",
      "[CV 4/5] END clf__activation=tanh, clf__alpha=0.014000000000000002, clf__hidden_layer_sizes=(512, 256);, score=-0.060 total time= 4.3min\n",
      "[CV 1/5] END clf__activation=tanh, clf__alpha=0.035, clf__hidden_layer_sizes=(512, 256);, score=-0.060 total time= 4.1min\n",
      "[CV 2/5] END clf__activation=tanh, clf__alpha=0.035, clf__hidden_layer_sizes=(512, 256);, score=-0.053 total time= 4.2min\n",
      "[CV 1/5] END clf__activation=relu, clf__alpha=0.079, clf__hidden_layer_sizes=(128, 64, 64, 32);, score=-0.060 total time=  34.3s\n",
      "[CV 2/5] END clf__activation=relu, clf__alpha=0.079, clf__hidden_layer_sizes=(128, 64, 64, 32);, score=-0.047 total time=  32.1s\n",
      "[CV 5/5] END clf__activation=tanh, clf__alpha=0.035, clf__hidden_layer_sizes=(512, 256);, score=-0.061 total time= 3.9min\n",
      "[CV 3/5] END clf__activation=relu, clf__alpha=0.079, clf__hidden_layer_sizes=(128, 64, 64, 32);, score=-0.063 total time=  29.1s\n",
      "[CV 1/5] END clf__activation=relu, clf__alpha=0.098, clf__hidden_layer_sizes=(512, 256, 128, 128);, score=-0.052 total time= 3.7min\n",
      "[CV 4/5] END clf__activation=relu, clf__alpha=0.079, clf__hidden_layer_sizes=(128, 64, 64, 32);, score=-0.057 total time=  28.5s\n",
      "[CV 4/5] END clf__activation=tanh, clf__alpha=0.035, clf__hidden_layer_sizes=(512, 256);, score=-0.063 total time= 4.7min\n",
      "[CV 5/5] END clf__activation=relu, clf__alpha=0.079, clf__hidden_layer_sizes=(128, 64, 64, 32);, score=-0.055 total time=  37.8s\n",
      "[CV 2/5] END clf__activation=relu, clf__alpha=0.098, clf__hidden_layer_sizes=(512, 256, 128, 128);, score=-0.045 total time= 3.8min\n",
      "[CV 5/5] END clf__activation=relu, clf__alpha=0.098, clf__hidden_layer_sizes=(512, 256, 128, 128);, score=-0.048 total time= 4.1min\n",
      "[CV 3/5] END clf__activation=relu, clf__alpha=0.098, clf__hidden_layer_sizes=(512, 256, 128, 128);, score=-0.048 total time= 4.8min\n",
      "[CV 4/5] END clf__activation=relu, clf__alpha=0.098, clf__hidden_layer_sizes=(512, 256, 128, 128);, score=-0.054 total time= 4.4min\n",
      "[CV 1/5] END clf__activation=tanh, clf__alpha=0.068, clf__hidden_layer_sizes=(512, 256, 128, 128);, score=-0.056 total time= 5.8min\n",
      "[CV 2/5] END clf__activation=tanh, clf__alpha=0.068, clf__hidden_layer_sizes=(512, 256, 128, 128);, score=-0.050 total time= 5.8min\n",
      "[CV 4/5] END clf__activation=tanh, clf__alpha=0.068, clf__hidden_layer_sizes=(512, 256, 128, 128);, score=-0.058 total time= 5.3min\n",
      "[CV 5/5] END clf__activation=tanh, clf__alpha=0.068, clf__hidden_layer_sizes=(512, 256, 128, 128);, score=-0.060 total time= 5.1min\n",
      "[CV 3/5] END clf__activation=tanh, clf__alpha=0.068, clf__hidden_layer_sizes=(512, 256, 128, 128);, score=-0.054 total time= 6.1min\n"
     ]
    },
    {
     "data": {
      "text/html": [
       "<style>#sk-container-id-1 {color: black;background-color: white;}#sk-container-id-1 pre{padding: 0;}#sk-container-id-1 div.sk-toggleable {background-color: white;}#sk-container-id-1 label.sk-toggleable__label {cursor: pointer;display: block;width: 100%;margin-bottom: 0;padding: 0.3em;box-sizing: border-box;text-align: center;}#sk-container-id-1 label.sk-toggleable__label-arrow:before {content: \"▸\";float: left;margin-right: 0.25em;color: #696969;}#sk-container-id-1 label.sk-toggleable__label-arrow:hover:before {color: black;}#sk-container-id-1 div.sk-estimator:hover label.sk-toggleable__label-arrow:before {color: black;}#sk-container-id-1 div.sk-toggleable__content {max-height: 0;max-width: 0;overflow: hidden;text-align: left;background-color: #f0f8ff;}#sk-container-id-1 div.sk-toggleable__content pre {margin: 0.2em;color: black;border-radius: 0.25em;background-color: #f0f8ff;}#sk-container-id-1 input.sk-toggleable__control:checked~div.sk-toggleable__content {max-height: 200px;max-width: 100%;overflow: auto;}#sk-container-id-1 input.sk-toggleable__control:checked~label.sk-toggleable__label-arrow:before {content: \"▾\";}#sk-container-id-1 div.sk-estimator input.sk-toggleable__control:checked~label.sk-toggleable__label {background-color: #d4ebff;}#sk-container-id-1 div.sk-label input.sk-toggleable__control:checked~label.sk-toggleable__label {background-color: #d4ebff;}#sk-container-id-1 input.sk-hidden--visually {border: 0;clip: rect(1px 1px 1px 1px);clip: rect(1px, 1px, 1px, 1px);height: 1px;margin: -1px;overflow: hidden;padding: 0;position: absolute;width: 1px;}#sk-container-id-1 div.sk-estimator {font-family: monospace;background-color: #f0f8ff;border: 1px dotted black;border-radius: 0.25em;box-sizing: border-box;margin-bottom: 0.5em;}#sk-container-id-1 div.sk-estimator:hover {background-color: #d4ebff;}#sk-container-id-1 div.sk-parallel-item::after {content: \"\";width: 100%;border-bottom: 1px solid gray;flex-grow: 1;}#sk-container-id-1 div.sk-label:hover label.sk-toggleable__label {background-color: #d4ebff;}#sk-container-id-1 div.sk-serial::before {content: \"\";position: absolute;border-left: 1px solid gray;box-sizing: border-box;top: 0;bottom: 0;left: 50%;z-index: 0;}#sk-container-id-1 div.sk-serial {display: flex;flex-direction: column;align-items: center;background-color: white;padding-right: 0.2em;padding-left: 0.2em;position: relative;}#sk-container-id-1 div.sk-item {position: relative;z-index: 1;}#sk-container-id-1 div.sk-parallel {display: flex;align-items: stretch;justify-content: center;background-color: white;position: relative;}#sk-container-id-1 div.sk-item::before, #sk-container-id-1 div.sk-parallel-item::before {content: \"\";position: absolute;border-left: 1px solid gray;box-sizing: border-box;top: 0;bottom: 0;left: 50%;z-index: -1;}#sk-container-id-1 div.sk-parallel-item {display: flex;flex-direction: column;z-index: 1;position: relative;background-color: white;}#sk-container-id-1 div.sk-parallel-item:first-child::after {align-self: flex-end;width: 50%;}#sk-container-id-1 div.sk-parallel-item:last-child::after {align-self: flex-start;width: 50%;}#sk-container-id-1 div.sk-parallel-item:only-child::after {width: 0;}#sk-container-id-1 div.sk-dashed-wrapped {border: 1px dashed gray;margin: 0 0.4em 0.5em 0.4em;box-sizing: border-box;padding-bottom: 0.4em;background-color: white;}#sk-container-id-1 div.sk-label label {font-family: monospace;font-weight: bold;display: inline-block;line-height: 1.2em;}#sk-container-id-1 div.sk-label-container {text-align: center;}#sk-container-id-1 div.sk-container {/* jupyter's `normalize.less` sets `[hidden] { display: none; }` but bootstrap.min.css set `[hidden] { display: none !important; }` so we also need the `!important` here to be able to override the default hidden behavior on the sphinx rendered scikit-learn.org. See: https://github.com/scikit-learn/scikit-learn/issues/21755 */display: inline-block !important;position: relative;}#sk-container-id-1 div.sk-text-repr-fallback {display: none;}</style><div id=\"sk-container-id-1\" class=\"sk-top-container\"><div class=\"sk-text-repr-fallback\"><pre>RandomizedSearchCV(estimator=Pipeline(steps=[(&#x27;scaler&#x27;, StandardScaler()),\n",
       "                                             (&#x27;clf&#x27;,\n",
       "                                              MLPRegressor(max_iter=2000,\n",
       "                                                           shuffle=False))]),\n",
       "                   n_jobs=8,\n",
       "                   param_distributions={&#x27;clf__activation&#x27;: [&#x27;tanh&#x27;, &#x27;relu&#x27;],\n",
       "                                        &#x27;clf__alpha&#x27;: array([0.001, 0.002, 0.003, 0.004, 0.005, 0.006, 0.007, 0.008, 0.009,\n",
       "       0.01 , 0.011, 0.012, 0.013, 0.014, 0.015, 0.016, 0.017, 0.018,\n",
       "       0.019, 0.02 , 0.021, 0.022, 0.023, 0.024...\n",
       "       0.064, 0.065, 0.066, 0.067, 0.068, 0.069, 0.07 , 0.071, 0.072,\n",
       "       0.073, 0.074, 0.075, 0.076, 0.077, 0.078, 0.079, 0.08 , 0.081,\n",
       "       0.082, 0.083, 0.084, 0.085, 0.086, 0.087, 0.088, 0.089, 0.09 ,\n",
       "       0.091, 0.092, 0.093, 0.094, 0.095, 0.096, 0.097, 0.098, 0.099]),\n",
       "                                        &#x27;clf__hidden_layer_sizes&#x27;: [(256, 256,\n",
       "                                                                     128, 128,\n",
       "                                                                     64),\n",
       "                                                                    (512, 256),\n",
       "                                                                    (128, 64,\n",
       "                                                                     64, 32),\n",
       "                                                                    (512, 256,\n",
       "                                                                     128,\n",
       "                                                                     128)]},\n",
       "                   scoring=&#x27;neg_mean_squared_error&#x27;, verbose=3)</pre><b>In a Jupyter environment, please rerun this cell to show the HTML representation or trust the notebook. <br />On GitHub, the HTML representation is unable to render, please try loading this page with nbviewer.org.</b></div><div class=\"sk-container\" hidden><div class=\"sk-item sk-dashed-wrapped\"><div class=\"sk-label-container\"><div class=\"sk-label sk-toggleable\"><input class=\"sk-toggleable__control sk-hidden--visually\" id=\"sk-estimator-id-1\" type=\"checkbox\" ><label for=\"sk-estimator-id-1\" class=\"sk-toggleable__label sk-toggleable__label-arrow\">RandomizedSearchCV</label><div class=\"sk-toggleable__content\"><pre>RandomizedSearchCV(estimator=Pipeline(steps=[(&#x27;scaler&#x27;, StandardScaler()),\n",
       "                                             (&#x27;clf&#x27;,\n",
       "                                              MLPRegressor(max_iter=2000,\n",
       "                                                           shuffle=False))]),\n",
       "                   n_jobs=8,\n",
       "                   param_distributions={&#x27;clf__activation&#x27;: [&#x27;tanh&#x27;, &#x27;relu&#x27;],\n",
       "                                        &#x27;clf__alpha&#x27;: array([0.001, 0.002, 0.003, 0.004, 0.005, 0.006, 0.007, 0.008, 0.009,\n",
       "       0.01 , 0.011, 0.012, 0.013, 0.014, 0.015, 0.016, 0.017, 0.018,\n",
       "       0.019, 0.02 , 0.021, 0.022, 0.023, 0.024...\n",
       "       0.064, 0.065, 0.066, 0.067, 0.068, 0.069, 0.07 , 0.071, 0.072,\n",
       "       0.073, 0.074, 0.075, 0.076, 0.077, 0.078, 0.079, 0.08 , 0.081,\n",
       "       0.082, 0.083, 0.084, 0.085, 0.086, 0.087, 0.088, 0.089, 0.09 ,\n",
       "       0.091, 0.092, 0.093, 0.094, 0.095, 0.096, 0.097, 0.098, 0.099]),\n",
       "                                        &#x27;clf__hidden_layer_sizes&#x27;: [(256, 256,\n",
       "                                                                     128, 128,\n",
       "                                                                     64),\n",
       "                                                                    (512, 256),\n",
       "                                                                    (128, 64,\n",
       "                                                                     64, 32),\n",
       "                                                                    (512, 256,\n",
       "                                                                     128,\n",
       "                                                                     128)]},\n",
       "                   scoring=&#x27;neg_mean_squared_error&#x27;, verbose=3)</pre></div></div></div><div class=\"sk-parallel\"><div class=\"sk-parallel-item\"><div class=\"sk-item\"><div class=\"sk-label-container\"><div class=\"sk-label sk-toggleable\"><input class=\"sk-toggleable__control sk-hidden--visually\" id=\"sk-estimator-id-2\" type=\"checkbox\" ><label for=\"sk-estimator-id-2\" class=\"sk-toggleable__label sk-toggleable__label-arrow\">estimator: Pipeline</label><div class=\"sk-toggleable__content\"><pre>Pipeline(steps=[(&#x27;scaler&#x27;, StandardScaler()),\n",
       "                (&#x27;clf&#x27;, MLPRegressor(max_iter=2000, shuffle=False))])</pre></div></div></div><div class=\"sk-serial\"><div class=\"sk-item\"><div class=\"sk-serial\"><div class=\"sk-item\"><div class=\"sk-estimator sk-toggleable\"><input class=\"sk-toggleable__control sk-hidden--visually\" id=\"sk-estimator-id-3\" type=\"checkbox\" ><label for=\"sk-estimator-id-3\" class=\"sk-toggleable__label sk-toggleable__label-arrow\">StandardScaler</label><div class=\"sk-toggleable__content\"><pre>StandardScaler()</pre></div></div></div><div class=\"sk-item\"><div class=\"sk-estimator sk-toggleable\"><input class=\"sk-toggleable__control sk-hidden--visually\" id=\"sk-estimator-id-4\" type=\"checkbox\" ><label for=\"sk-estimator-id-4\" class=\"sk-toggleable__label sk-toggleable__label-arrow\">MLPRegressor</label><div class=\"sk-toggleable__content\"><pre>MLPRegressor(max_iter=2000, shuffle=False)</pre></div></div></div></div></div></div></div></div></div></div></div></div>"
      ],
      "text/plain": [
       "RandomizedSearchCV(estimator=Pipeline(steps=[('scaler', StandardScaler()),\n",
       "                                             ('clf',\n",
       "                                              MLPRegressor(max_iter=2000,\n",
       "                                                           shuffle=False))]),\n",
       "                   n_jobs=8,\n",
       "                   param_distributions={'clf__activation': ['tanh', 'relu'],\n",
       "                                        'clf__alpha': array([0.001, 0.002, 0.003, 0.004, 0.005, 0.006, 0.007, 0.008, 0.009,\n",
       "       0.01 , 0.011, 0.012, 0.013, 0.014, 0.015, 0.016, 0.017, 0.018,\n",
       "       0.019, 0.02 , 0.021, 0.022, 0.023, 0.024...\n",
       "       0.064, 0.065, 0.066, 0.067, 0.068, 0.069, 0.07 , 0.071, 0.072,\n",
       "       0.073, 0.074, 0.075, 0.076, 0.077, 0.078, 0.079, 0.08 , 0.081,\n",
       "       0.082, 0.083, 0.084, 0.085, 0.086, 0.087, 0.088, 0.089, 0.09 ,\n",
       "       0.091, 0.092, 0.093, 0.094, 0.095, 0.096, 0.097, 0.098, 0.099]),\n",
       "                                        'clf__hidden_layer_sizes': [(256, 256,\n",
       "                                                                     128, 128,\n",
       "                                                                     64),\n",
       "                                                                    (512, 256),\n",
       "                                                                    (128, 64,\n",
       "                                                                     64, 32),\n",
       "                                                                    (512, 256,\n",
       "                                                                     128,\n",
       "                                                                     128)]},\n",
       "                   scoring='neg_mean_squared_error', verbose=3)"
      ]
     },
     "execution_count": 12,
     "metadata": {},
     "output_type": "execute_result"
    }
   ],
   "source": [
    "clf.fit(X_train, y_train)"
   ]
  },
  {
   "cell_type": "code",
   "execution_count": 13,
   "metadata": {},
   "outputs": [
    {
     "data": {
      "text/plain": [
       "-0.04943315584632803"
      ]
     },
     "execution_count": 13,
     "metadata": {},
     "output_type": "execute_result"
    }
   ],
   "source": [
    "clf.best_score_"
   ]
  },
  {
   "cell_type": "code",
   "execution_count": 14,
   "metadata": {},
   "outputs": [
    {
     "data": {
      "text/plain": [
       "{'clf__hidden_layer_sizes': (512, 256, 128, 128),\n",
       " 'clf__alpha': 0.098,\n",
       " 'clf__activation': 'relu'}"
      ]
     },
     "execution_count": 14,
     "metadata": {},
     "output_type": "execute_result"
    }
   ],
   "source": [
    "clf.best_params_"
   ]
  },
  {
   "cell_type": "markdown",
   "metadata": {},
   "source": [
    "## Test model"
   ]
  },
  {
   "cell_type": "code",
   "execution_count": 15,
   "metadata": {},
   "outputs": [
    {
     "data": {
      "text/plain": [
       "-0.1206052057848756"
      ]
     },
     "execution_count": 15,
     "metadata": {},
     "output_type": "execute_result"
    }
   ],
   "source": [
    "clf.score(X_test, y_test)\n"
   ]
  },
  {
   "cell_type": "code",
   "execution_count": 16,
   "metadata": {},
   "outputs": [],
   "source": [
    "y_pred = clf.predict(X_test)"
   ]
  },
  {
   "cell_type": "code",
   "execution_count": 17,
   "metadata": {},
   "outputs": [
    {
     "name": "stdout",
     "output_type": "stream",
     "text": [
      "R^2:  0.6911826502732412\n",
      "mse:  0.1206052057848756\n",
      "rmse:  0.3472826021914654\n",
      "mae:  0.2223266992186864\n",
      "mape:  0.07807590869777666\n",
      "Error estandar:  0.3354015354813988\n"
     ]
    }
   ],
   "source": [
    "print(\"R^2: \", r2_score(y_test, y_pred))\n",
    "print(\"mse: \", mean_squared_error(y_test, y_pred))\n",
    "print(\"rmse: \", mean_squared_error(y_test, y_pred, squared=False))\n",
    "print(\"mae: \", mean_absolute_error(y_test, y_pred))\n",
    "print(\"mape: \", mean_absolute_percentage_error(y_test, y_pred))\n",
    "print(\"Error estandar: \", stde(y_test.squeeze(),\n",
    "      y_pred.squeeze(), ddof=2))\n"
   ]
  },
  {
   "cell_type": "code",
   "execution_count": 18,
   "metadata": {},
   "outputs": [
    {
     "data": {
      "image/png": "[encoded data removed]",
      "text/plain": [
       "<Figure size 1600x640 with 2 Axes>"
      ]
     },
     "metadata": {
      "needs_background": "light"
     },
     "output_type": "display_data"
    }
   ],
   "source": [
    "residuals = y_test - y_pred\n",
    "residuals_std = residuals/residuals.std()\n",
    "\n",
    "y_real_stage = y_test\n",
    "residual_stage = residuals\n",
    "\n",
    "#y_real_discharge = np.array([i[-1] for i in y_test])\n",
    "#residual_discharge = np.array([i[-1] for i in residuals])\n",
    "\n",
    "\n",
    "figure, ax = plt.subplots(ncols=2, figsize=(20, 8), dpi=80)\n",
    "\n",
    "ax[1].scatter(y_real_stage, residual_stage / residual_stage.std(), label=\"stage residuals\")\n",
    "#ax[0].scatter(y_real_discharge, residual_discharge / residual_discharge.std(), label=\"discharge residuals\")\n",
    "ax[1].axhline(y=0.0, color='r', linestyle='-')\n",
    "ax[0].axhline(y=0.0, color='r', linestyle='-')\n",
    "\n",
    "ax[1].set_title(\"Stage residuals\")\n",
    "ax[0].set_title(\"Discharge residuals\")\n",
    "\n",
    "ax[1].set_xlabel(\"Fitted values\")\n",
    "ax[0].set_xlabel(\"Fitted values\")\n",
    "ax[1].set_ylabel(\"Standarized residuals\")\n",
    "ax[0].set_ylabel(\"Standarized residuals\")\n",
    "\n",
    "plt.legend()\n",
    "plt.show()"
   ]
  },
  {
   "cell_type": "code",
   "execution_count": 19,
   "metadata": {},
   "outputs": [
    {
     "data": {
      "image/png": "[encoded data removed]",
      "text/plain": [
       "<Figure size 432x288 with 1 Axes>"
      ]
     },
     "metadata": {
      "needs_background": "light"
     },
     "output_type": "display_data"
    }
   ],
   "source": [
    "plt.hist(residual_stage / residual_stage.std(), density=True, bins = 60)\n",
    "plt.ylabel('Count')\n",
    "plt.xlabel('Residual stage');\n",
    "plt.show()"
   ]
  },
  {
   "cell_type": "code",
   "execution_count": 20,
   "metadata": {},
   "outputs": [
    {
     "data": {
      "text/plain": [
       "\"plt.hist(residual_discharge / residual_discharge.std(), density=True, bins = 60)\\nplt.ylabel('Count')\\nplt.xlabel('Residual discharge');\\nplt.show()\""
      ]
     },
     "execution_count": 20,
     "metadata": {},
     "output_type": "execute_result"
    }
   ],
   "source": [
    "\"\"\"plt.hist(residual_discharge / residual_discharge.std(), density=True, bins = 60)\n",
    "plt.ylabel('Count')\n",
    "plt.xlabel('Residual discharge');\n",
    "plt.show()\"\"\""
   ]
  },
  {
   "cell_type": "code",
   "execution_count": 21,
   "metadata": {},
   "outputs": [
    {
     "data": {
      "text/plain": [
       "[<matplotlib.lines.Line2D at 0x7f0e84343940>]"
      ]
     },
     "execution_count": 21,
     "metadata": {},
     "output_type": "execute_result"
    },
    {
     "data": {
      "image/png": "[encoded data removed]",
      "text/plain": [
       "<Figure size 640x480 with 1 Axes>"
      ]
     },
     "metadata": {
      "needs_background": "light"
     },
     "output_type": "display_data"
    }
   ],
   "source": [
    "plt.figure(figsize=(8, 6), dpi=80)\n",
    "plt.plot(np.arange(len(y_test)), y_test, label=\"Stage real\")"
   ]
  },
  {
   "cell_type": "code",
   "execution_count": 22,
   "metadata": {},
   "outputs": [
    {
     "name": "stderr",
     "output_type": "stream",
     "text": [
      "No artists with labels found to put in legend.  Note that artists whose label start with an underscore are ignored when legend() is called with no argument.\n"
     ]
    },
    {
     "data": {
      "image/png": "[encoded data removed]",
      "text/plain": [
       "<Figure size 1600x640 with 2 Axes>"
      ]
     },
     "metadata": {
      "needs_background": "light"
     },
     "output_type": "display_data"
    }
   ],
   "source": [
    "figure, ax = plt.subplots(ncols=2, figsize=(20, 8), dpi=80)\n",
    "\n",
    "ax[0].plot(np.arange(len(y_test)), y_test, label=\"Stage real\")\n",
    "ax[0].plot(np.arange(len(y_test)), y_pred, label=\"Stage pred\")\n",
    "\n",
    "ax[0].set_title(\"Stage predictions\")\n",
    "ax[1].set_title(\"Discharge predictions\")\n",
    "\n",
    "ax[1].set_ylabel(\"Values\")\n",
    "ax[0].set_ylabel(\"Values\")\n",
    "ax[1].set_xlabel(\"Time\")\n",
    "ax[0].set_xlabel(\"Time\")\n",
    "\n",
    "ax[0].legend()\n",
    "ax[1].legend()\n",
    "plt.show()"
   ]
  }
 ],
 "metadata": {
  "kernelspec": {
   "display_name": "Python 3.10.4 ('AI')",
   "language": "python",
   "name": "python3"
  },
  "language_info": {
   "codemirror_mode": {
    "name": "ipython",
    "version": 3
   },
   "file_extension": ".py",
   "mimetype": "text/x-python",
   "name": "python",
   "nbconvert_exporter": "python",
   "pygments_lexer": "ipython3",
   "version": "3.10.4"
  },
  "orig_nbformat": 4,
  "vscode": {
   "interpreter": {
    "hash": "d3195bcac7665d94292c51415de587dfe31631e0f2da24bab4176ae761a97102"
   }
  }
 },
 "nbformat": 4,
 "nbformat_minor": 2
}
