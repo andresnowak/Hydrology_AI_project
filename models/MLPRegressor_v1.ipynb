{
 "cells": [
  {
   "cell_type": "markdown",
   "metadata": {},
   "source": [
    "# MLPRegressor"
   ]
  },
  {
   "cell_type": "code",
   "execution_count": 1,
   "metadata": {},
   "outputs": [],
   "source": [
    "import numpy as np\n",
    "import pandas as pd\n",
    "\n",
    "import matplotlib.pyplot as plt\n",
    "\n",
    "from sklearn.model_selection import train_test_split, RandomizedSearchCV\n",
    "from sklearn.preprocessing import StandardScaler\n",
    "from sklearn.pipeline import Pipeline\n",
    "from sklearn.neural_network import MLPRegressor\n",
    "from sklearn.feature_selection import SelectFromModel\n",
    "from sklearn.metrics import r2_score\n",
    "from statsmodels.tools.eval_measures import stde\n"
   ]
  },
  {
   "cell_type": "markdown",
   "metadata": {},
   "source": [
    "## Read the etl info results"
   ]
  },
  {
   "cell_type": "code",
   "execution_count": 2,
   "metadata": {},
   "outputs": [
    {
     "data": {
      "text/html": [
       "<div>\n",
       "<style scoped>\n",
       "    .dataframe tbody tr th:only-of-type {\n",
       "        vertical-align: middle;\n",
       "    }\n",
       "\n",
       "    .dataframe tbody tr th {\n",
       "        vertical-align: top;\n",
       "    }\n",
       "\n",
       "    .dataframe thead th {\n",
       "        text-align: right;\n",
       "    }\n",
       "</style>\n",
       "<table border=\"1\" class=\"dataframe\">\n",
       "  <thead>\n",
       "    <tr style=\"text-align: right;\">\n",
       "      <th></th>\n",
       "      <th>remove_time_features</th>\n",
       "      <th>generic_features</th>\n",
       "      <th>remove_atypical_values</th>\n",
       "      <th>feature_combination</th>\n",
       "      <th>remove_feature_selection</th>\n",
       "      <th>remove_invalid_correlated_features</th>\n",
       "    </tr>\n",
       "  </thead>\n",
       "  <tbody>\n",
       "    <tr>\n",
       "      <th>0</th>\n",
       "      <td>True</td>\n",
       "      <td>True</td>\n",
       "      <td>False</td>\n",
       "      <td>degree 2 polynomial</td>\n",
       "      <td>False</td>\n",
       "      <td>False</td>\n",
       "    </tr>\n",
       "  </tbody>\n",
       "</table>\n",
       "</div>"
      ],
      "text/plain": [
       "   remove_time_features  generic_features  remove_atypical_values  \\\n",
       "0                  True              True                   False   \n",
       "\n",
       "   feature_combination  remove_feature_selection  \\\n",
       "0  degree 2 polynomial                     False   \n",
       "\n",
       "   remove_invalid_correlated_features  \n",
       "0                               False  "
      ]
     },
     "execution_count": 2,
     "metadata": {},
     "output_type": "execute_result"
    }
   ],
   "source": [
    "df_info = pd.read_csv('../dataset_clean/options_csv_v1_etl.csv')\n",
    "df_info"
   ]
  },
  {
   "cell_type": "markdown",
   "metadata": {},
   "source": [
    "## Read the dataset"
   ]
  },
  {
   "cell_type": "code",
   "execution_count": 3,
   "metadata": {},
   "outputs": [
    {
     "data": {
      "text/html": [
       "<div>\n",
       "<style scoped>\n",
       "    .dataframe tbody tr th:only-of-type {\n",
       "        vertical-align: middle;\n",
       "    }\n",
       "\n",
       "    .dataframe tbody tr th {\n",
       "        vertical-align: top;\n",
       "    }\n",
       "\n",
       "    .dataframe thead th {\n",
       "        text-align: right;\n",
       "    }\n",
       "</style>\n",
       "<table border=\"1\" class=\"dataframe\">\n",
       "  <thead>\n",
       "    <tr style=\"text-align: right;\">\n",
       "      <th></th>\n",
       "      <th>Stage</th>\n",
       "      <th>Discharge</th>\n",
       "      <th>exposure</th>\n",
       "      <th>fNumber</th>\n",
       "      <th>isoSpeed</th>\n",
       "      <th>shutterSpeed</th>\n",
       "      <th>grayMean</th>\n",
       "      <th>graySigma</th>\n",
       "      <th>entropyMean</th>\n",
       "      <th>entropySigma</th>\n",
       "      <th>...</th>\n",
       "      <th>hMean^2</th>\n",
       "      <th>hMean hSigma</th>\n",
       "      <th>hMean sMean</th>\n",
       "      <th>hMean sSigma</th>\n",
       "      <th>hSigma^2</th>\n",
       "      <th>hSigma sMean</th>\n",
       "      <th>hSigma sSigma</th>\n",
       "      <th>sMean^2</th>\n",
       "      <th>sMean sSigma</th>\n",
       "      <th>sSigma^2</th>\n",
       "    </tr>\n",
       "  </thead>\n",
       "  <tbody>\n",
       "    <tr>\n",
       "      <th>0</th>\n",
       "      <td>2.99</td>\n",
       "      <td>916.0</td>\n",
       "      <td>0.000250</td>\n",
       "      <td>4.0</td>\n",
       "      <td>200.0</td>\n",
       "      <td>-1.0</td>\n",
       "      <td>97.405096</td>\n",
       "      <td>39.623303</td>\n",
       "      <td>0.203417</td>\n",
       "      <td>0.979825</td>\n",
       "      <td>...</td>\n",
       "      <td>11102.494450</td>\n",
       "      <td>4380.473026</td>\n",
       "      <td>13120.493025</td>\n",
       "      <td>433.258531</td>\n",
       "      <td>1728.309257</td>\n",
       "      <td>5176.671427</td>\n",
       "      <td>170.941523</td>\n",
       "      <td>15505.284691</td>\n",
       "      <td>512.007960</td>\n",
       "      <td>16.907278</td>\n",
       "    </tr>\n",
       "    <tr>\n",
       "      <th>1</th>\n",
       "      <td>2.99</td>\n",
       "      <td>916.0</td>\n",
       "      <td>0.000312</td>\n",
       "      <td>4.0</td>\n",
       "      <td>200.0</td>\n",
       "      <td>-1.0</td>\n",
       "      <td>104.066757</td>\n",
       "      <td>40.179745</td>\n",
       "      <td>0.206835</td>\n",
       "      <td>1.002624</td>\n",
       "      <td>...</td>\n",
       "      <td>12633.638159</td>\n",
       "      <td>4697.800988</td>\n",
       "      <td>13973.239739</td>\n",
       "      <td>479.993905</td>\n",
       "      <td>1746.870842</td>\n",
       "      <td>5195.929995</td>\n",
       "      <td>178.485074</td>\n",
       "      <td>15454.885312</td>\n",
       "      <td>530.889822</td>\n",
       "      <td>18.236564</td>\n",
       "    </tr>\n",
       "    <tr>\n",
       "      <th>2</th>\n",
       "      <td>2.96</td>\n",
       "      <td>873.0</td>\n",
       "      <td>0.000312</td>\n",
       "      <td>4.0</td>\n",
       "      <td>200.0</td>\n",
       "      <td>-1.0</td>\n",
       "      <td>105.636831</td>\n",
       "      <td>40.533218</td>\n",
       "      <td>0.204756</td>\n",
       "      <td>0.994246</td>\n",
       "      <td>...</td>\n",
       "      <td>13000.908391</td>\n",
       "      <td>4805.503574</td>\n",
       "      <td>14173.402575</td>\n",
       "      <td>491.466185</td>\n",
       "      <td>1776.250082</td>\n",
       "      <td>5238.890597</td>\n",
       "      <td>181.659807</td>\n",
       "      <td>15451.638802</td>\n",
       "      <td>535.789338</td>\n",
       "      <td>18.578626</td>\n",
       "    </tr>\n",
       "    <tr>\n",
       "      <th>3</th>\n",
       "      <td>2.94</td>\n",
       "      <td>846.0</td>\n",
       "      <td>0.000312</td>\n",
       "      <td>4.0</td>\n",
       "      <td>200.0</td>\n",
       "      <td>-1.0</td>\n",
       "      <td>104.418949</td>\n",
       "      <td>41.752678</td>\n",
       "      <td>0.202428</td>\n",
       "      <td>0.983170</td>\n",
       "      <td>...</td>\n",
       "      <td>12681.649481</td>\n",
       "      <td>4907.143594</td>\n",
       "      <td>14005.627937</td>\n",
       "      <td>464.030851</td>\n",
       "      <td>1898.811215</td>\n",
       "      <td>5419.454900</td>\n",
       "      <td>179.555981</td>\n",
       "      <td>15467.831233</td>\n",
       "      <td>512.476193</td>\n",
       "      <td>16.979229</td>\n",
       "    </tr>\n",
       "    <tr>\n",
       "      <th>4</th>\n",
       "      <td>2.94</td>\n",
       "      <td>846.0</td>\n",
       "      <td>0.000312</td>\n",
       "      <td>4.0</td>\n",
       "      <td>200.0</td>\n",
       "      <td>-1.0</td>\n",
       "      <td>106.763541</td>\n",
       "      <td>44.442097</td>\n",
       "      <td>0.202661</td>\n",
       "      <td>0.989625</td>\n",
       "      <td>...</td>\n",
       "      <td>13188.093305</td>\n",
       "      <td>5317.295929</td>\n",
       "      <td>14272.610067</td>\n",
       "      <td>469.518688</td>\n",
       "      <td>2143.875945</td>\n",
       "      <td>5754.561304</td>\n",
       "      <td>189.304834</td>\n",
       "      <td>15446.311565</td>\n",
       "      <td>508.129341</td>\n",
       "      <td>16.715669</td>\n",
       "    </tr>\n",
       "    <tr>\n",
       "      <th>...</th>\n",
       "      <td>...</td>\n",
       "      <td>...</td>\n",
       "      <td>...</td>\n",
       "      <td>...</td>\n",
       "      <td>...</td>\n",
       "      <td>...</td>\n",
       "      <td>...</td>\n",
       "      <td>...</td>\n",
       "      <td>...</td>\n",
       "      <td>...</td>\n",
       "      <td>...</td>\n",
       "      <td>...</td>\n",
       "      <td>...</td>\n",
       "      <td>...</td>\n",
       "      <td>...</td>\n",
       "      <td>...</td>\n",
       "      <td>...</td>\n",
       "      <td>...</td>\n",
       "      <td>...</td>\n",
       "      <td>...</td>\n",
       "      <td>...</td>\n",
       "    </tr>\n",
       "    <tr>\n",
       "      <th>42054</th>\n",
       "      <td>2.54</td>\n",
       "      <td>434.0</td>\n",
       "      <td>0.000312</td>\n",
       "      <td>4.0</td>\n",
       "      <td>200.0</td>\n",
       "      <td>-1.0</td>\n",
       "      <td>82.872720</td>\n",
       "      <td>57.702652</td>\n",
       "      <td>0.221708</td>\n",
       "      <td>1.076393</td>\n",
       "      <td>...</td>\n",
       "      <td>7614.407426</td>\n",
       "      <td>5365.245414</td>\n",
       "      <td>11152.582868</td>\n",
       "      <td>223.749807</td>\n",
       "      <td>3780.446297</td>\n",
       "      <td>7858.306070</td>\n",
       "      <td>157.658050</td>\n",
       "      <td>16334.837064</td>\n",
       "      <td>327.719298</td>\n",
       "      <td>6.574901</td>\n",
       "    </tr>\n",
       "    <tr>\n",
       "      <th>42055</th>\n",
       "      <td>2.54</td>\n",
       "      <td>434.0</td>\n",
       "      <td>0.000250</td>\n",
       "      <td>4.0</td>\n",
       "      <td>200.0</td>\n",
       "      <td>-1.0</td>\n",
       "      <td>89.028383</td>\n",
       "      <td>55.840861</td>\n",
       "      <td>0.233168</td>\n",
       "      <td>1.124774</td>\n",
       "      <td>...</td>\n",
       "      <td>8869.101271</td>\n",
       "      <td>5556.955941</td>\n",
       "      <td>11991.983166</td>\n",
       "      <td>243.456112</td>\n",
       "      <td>3481.723614</td>\n",
       "      <td>7513.604824</td>\n",
       "      <td>152.537991</td>\n",
       "      <td>16214.456896</td>\n",
       "      <td>329.178968</td>\n",
       "      <td>6.682851</td>\n",
       "    </tr>\n",
       "    <tr>\n",
       "      <th>42056</th>\n",
       "      <td>2.54</td>\n",
       "      <td>434.0</td>\n",
       "      <td>0.000250</td>\n",
       "      <td>4.0</td>\n",
       "      <td>200.0</td>\n",
       "      <td>-1.0</td>\n",
       "      <td>94.722097</td>\n",
       "      <td>54.355753</td>\n",
       "      <td>0.240722</td>\n",
       "      <td>1.151833</td>\n",
       "      <td>...</td>\n",
       "      <td>10107.201173</td>\n",
       "      <td>5722.531472</td>\n",
       "      <td>12763.746037</td>\n",
       "      <td>278.970080</td>\n",
       "      <td>3240.003429</td>\n",
       "      <td>7226.623588</td>\n",
       "      <td>157.948282</td>\n",
       "      <td>16118.528772</td>\n",
       "      <td>352.293696</td>\n",
       "      <td>7.699887</td>\n",
       "    </tr>\n",
       "    <tr>\n",
       "      <th>42057</th>\n",
       "      <td>2.54</td>\n",
       "      <td>434.0</td>\n",
       "      <td>0.000312</td>\n",
       "      <td>4.0</td>\n",
       "      <td>200.0</td>\n",
       "      <td>-1.0</td>\n",
       "      <td>96.693270</td>\n",
       "      <td>52.787629</td>\n",
       "      <td>0.244789</td>\n",
       "      <td>1.171987</td>\n",
       "      <td>...</td>\n",
       "      <td>10586.590600</td>\n",
       "      <td>5667.608449</td>\n",
       "      <td>13034.247495</td>\n",
       "      <td>308.537969</td>\n",
       "      <td>3034.195498</td>\n",
       "      <td>6977.979410</td>\n",
       "      <td>165.178051</td>\n",
       "      <td>16047.811252</td>\n",
       "      <td>379.873030</td>\n",
       "      <td>8.992100</td>\n",
       "    </tr>\n",
       "    <tr>\n",
       "      <th>42058</th>\n",
       "      <td>2.54</td>\n",
       "      <td>434.0</td>\n",
       "      <td>0.000400</td>\n",
       "      <td>4.0</td>\n",
       "      <td>200.0</td>\n",
       "      <td>-1.0</td>\n",
       "      <td>98.738399</td>\n",
       "      <td>52.025453</td>\n",
       "      <td>0.252812</td>\n",
       "      <td>1.213278</td>\n",
       "      <td>...</td>\n",
       "      <td>11086.419373</td>\n",
       "      <td>5685.156186</td>\n",
       "      <td>13301.344137</td>\n",
       "      <td>343.052399</td>\n",
       "      <td>2915.368774</td>\n",
       "      <td>6820.977662</td>\n",
       "      <td>175.918518</td>\n",
       "      <td>15958.782533</td>\n",
       "      <td>411.589880</td>\n",
       "      <td>10.615235</td>\n",
       "    </tr>\n",
       "  </tbody>\n",
       "</table>\n",
       "<p>42059 rows × 92 columns</p>\n",
       "</div>"
      ],
      "text/plain": [
       "       Stage  Discharge  exposure  fNumber  isoSpeed  shutterSpeed  \\\n",
       "0       2.99      916.0  0.000250      4.0     200.0          -1.0   \n",
       "1       2.99      916.0  0.000312      4.0     200.0          -1.0   \n",
       "2       2.96      873.0  0.000312      4.0     200.0          -1.0   \n",
       "3       2.94      846.0  0.000312      4.0     200.0          -1.0   \n",
       "4       2.94      846.0  0.000312      4.0     200.0          -1.0   \n",
       "...      ...        ...       ...      ...       ...           ...   \n",
       "42054   2.54      434.0  0.000312      4.0     200.0          -1.0   \n",
       "42055   2.54      434.0  0.000250      4.0     200.0          -1.0   \n",
       "42056   2.54      434.0  0.000250      4.0     200.0          -1.0   \n",
       "42057   2.54      434.0  0.000312      4.0     200.0          -1.0   \n",
       "42058   2.54      434.0  0.000400      4.0     200.0          -1.0   \n",
       "\n",
       "         grayMean  graySigma  entropyMean  entropySigma  ...       hMean^2  \\\n",
       "0       97.405096  39.623303     0.203417      0.979825  ...  11102.494450   \n",
       "1      104.066757  40.179745     0.206835      1.002624  ...  12633.638159   \n",
       "2      105.636831  40.533218     0.204756      0.994246  ...  13000.908391   \n",
       "3      104.418949  41.752678     0.202428      0.983170  ...  12681.649481   \n",
       "4      106.763541  44.442097     0.202661      0.989625  ...  13188.093305   \n",
       "...           ...        ...          ...           ...  ...           ...   \n",
       "42054   82.872720  57.702652     0.221708      1.076393  ...   7614.407426   \n",
       "42055   89.028383  55.840861     0.233168      1.124774  ...   8869.101271   \n",
       "42056   94.722097  54.355753     0.240722      1.151833  ...  10107.201173   \n",
       "42057   96.693270  52.787629     0.244789      1.171987  ...  10586.590600   \n",
       "42058   98.738399  52.025453     0.252812      1.213278  ...  11086.419373   \n",
       "\n",
       "       hMean hSigma   hMean sMean  hMean sSigma     hSigma^2  hSigma sMean  \\\n",
       "0       4380.473026  13120.493025    433.258531  1728.309257   5176.671427   \n",
       "1       4697.800988  13973.239739    479.993905  1746.870842   5195.929995   \n",
       "2       4805.503574  14173.402575    491.466185  1776.250082   5238.890597   \n",
       "3       4907.143594  14005.627937    464.030851  1898.811215   5419.454900   \n",
       "4       5317.295929  14272.610067    469.518688  2143.875945   5754.561304   \n",
       "...             ...           ...           ...          ...           ...   \n",
       "42054   5365.245414  11152.582868    223.749807  3780.446297   7858.306070   \n",
       "42055   5556.955941  11991.983166    243.456112  3481.723614   7513.604824   \n",
       "42056   5722.531472  12763.746037    278.970080  3240.003429   7226.623588   \n",
       "42057   5667.608449  13034.247495    308.537969  3034.195498   6977.979410   \n",
       "42058   5685.156186  13301.344137    343.052399  2915.368774   6820.977662   \n",
       "\n",
       "       hSigma sSigma       sMean^2  sMean sSigma   sSigma^2  \n",
       "0         170.941523  15505.284691    512.007960  16.907278  \n",
       "1         178.485074  15454.885312    530.889822  18.236564  \n",
       "2         181.659807  15451.638802    535.789338  18.578626  \n",
       "3         179.555981  15467.831233    512.476193  16.979229  \n",
       "4         189.304834  15446.311565    508.129341  16.715669  \n",
       "...              ...           ...           ...        ...  \n",
       "42054     157.658050  16334.837064    327.719298   6.574901  \n",
       "42055     152.537991  16214.456896    329.178968   6.682851  \n",
       "42056     157.948282  16118.528772    352.293696   7.699887  \n",
       "42057     165.178051  16047.811252    379.873030   8.992100  \n",
       "42058     175.918518  15958.782533    411.589880  10.615235  \n",
       "\n",
       "[42059 rows x 92 columns]"
      ]
     },
     "execution_count": 3,
     "metadata": {},
     "output_type": "execute_result"
    }
   ],
   "source": [
    "df = pd.read_csv('../dataset_clean/PlatteRiverWeir_features_v1_clean.csv')\n",
    "df"
   ]
  },
  {
   "cell_type": "markdown",
   "metadata": {},
   "source": [
    "## Divide dataset to X and Y"
   ]
  },
  {
   "cell_type": "code",
   "execution_count": 4,
   "metadata": {},
   "outputs": [],
   "source": [
    "y = df[[\"Stage\", \"Discharge\"]]\n",
    "X = df.drop(columns=[\"Stage\", \"Discharge\"])"
   ]
  },
  {
   "cell_type": "code",
   "execution_count": 5,
   "metadata": {},
   "outputs": [],
   "source": [
    "X_train, X_test, y_train, y_test = train_test_split(X, y, test_size=0.33, random_state=0)"
   ]
  },
  {
   "cell_type": "markdown",
   "metadata": {},
   "source": [
    "## Train model"
   ]
  },
  {
   "cell_type": "code",
   "execution_count": 6,
   "metadata": {},
   "outputs": [],
   "source": [
    "pipeline = Pipeline([\n",
    "    ('scaler', StandardScaler()),\n",
    "    ('clf', MLPRegressor())\n",
    "])\n",
    "\n",
    "param_grid = {'clf__hidden_layer_sizes': [(10), (10, 20), (10, 5, 15)], 'clf__alpha': [np.arange(0.0001, 1, 10)], 'clf__learning_rate_init': np.arange(0.001, 10, 20)}\n",
    "\n",
    "clf = RandomizedSearchCV(pipeline, param_distributions=param_grid, n_iter=3, n_jobs=6, verbose=3)"
   ]
  },
  {
   "cell_type": "code",
   "execution_count": null,
   "metadata": {},
   "outputs": [],
   "source": [
    "clf.fit(X_train, y_train)"
   ]
  },
  {
   "cell_type": "code",
   "execution_count": 8,
   "metadata": {},
   "outputs": [
    {
     "data": {
      "text/plain": [
       "0.4418745032142012"
      ]
     },
     "execution_count": 8,
     "metadata": {},
     "output_type": "execute_result"
    }
   ],
   "source": [
    "clf.best_score_"
   ]
  },
  {
   "cell_type": "code",
   "execution_count": 9,
   "metadata": {},
   "outputs": [
    {
     "data": {
      "text/plain": [
       "{'clf__learning_rate_init': 0.001,\n",
       " 'clf__hidden_layer_sizes': (10, 5, 15),\n",
       " 'clf__alpha': array([0.0001])}"
      ]
     },
     "execution_count": 9,
     "metadata": {},
     "output_type": "execute_result"
    }
   ],
   "source": [
    "clf.best_params_"
   ]
  },
  {
   "cell_type": "markdown",
   "metadata": {},
   "source": [
    "## Test model"
   ]
  },
  {
   "cell_type": "code",
   "execution_count": 10,
   "metadata": {},
   "outputs": [
    {
     "data": {
      "text/plain": [
       "0.4679043756932498"
      ]
     },
     "execution_count": 10,
     "metadata": {},
     "output_type": "execute_result"
    }
   ],
   "source": [
    "clf.score(X_test, y_test)\n"
   ]
  },
  {
   "cell_type": "code",
   "execution_count": 11,
   "metadata": {},
   "outputs": [],
   "source": [
    "y_pred = clf.predict(X_test)"
   ]
  },
  {
   "cell_type": "code",
   "execution_count": 12,
   "metadata": {},
   "outputs": [
    {
     "name": "stdout",
     "output_type": "stream",
     "text": [
      "R^2:  0.4679043756932498\n",
      "Error estandar:  [5.73430804e-01 9.09125182e+02]\n"
     ]
    }
   ],
   "source": [
    "print(\"R^2: \", r2_score(y_test, y_pred))\n",
    "print(\"Error estandar: \", stde(y_test.squeeze(),\n",
    "      y_pred.squeeze(), ddof=len(X.columns) + 1))\n"
   ]
  },
  {
   "cell_type": "code",
   "execution_count": null,
   "metadata": {},
   "outputs": [],
   "source": []
  }
 ],
 "metadata": {
  "kernelspec": {
   "display_name": "Python 3.10.5 ('AI')",
   "language": "python",
   "name": "python3"
  },
  "language_info": {
   "codemirror_mode": {
    "name": "ipython",
    "version": 3
   },
   "file_extension": ".py",
   "mimetype": "text/x-python",
   "name": "python",
   "nbconvert_exporter": "python",
   "pygments_lexer": "ipython3",
   "version": "3.10.5"
  },
  "orig_nbformat": 4,
  "vscode": {
   "interpreter": {
    "hash": "8036d000083d9c8e2133564bb58ecd6b29036dbd0e0a50b264afcf6a2fa15ce7"
   }
  }
 },
 "nbformat": 4,
 "nbformat_minor": 2
}
