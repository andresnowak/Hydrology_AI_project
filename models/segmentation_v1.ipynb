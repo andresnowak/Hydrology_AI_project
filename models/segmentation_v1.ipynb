{
 "cells": [
  {
   "cell_type": "code",
   "execution_count": 1,
   "metadata": {},
   "outputs": [],
   "source": [
    "from keras_segmentation.pretrained import pspnet_50_ADE_20K"
   ]
  },
  {
   "cell_type": "code",
   "execution_count": 3,
   "metadata": {},
   "outputs": [
    {
     "ename": "ModuleNotFoundError",
     "evalue": "No module named 'keras.layers.merge'",
     "output_type": "error",
     "traceback": [
      "\u001b[0;31m---------------------------------------------------------------------------\u001b[0m",
      "\u001b[0;31mModuleNotFoundError\u001b[0m                       Traceback (most recent call last)",
      "Cell \u001b[0;32mIn [3], line 1\u001b[0m\n\u001b[0;32m----> 1\u001b[0m model \u001b[39m=\u001b[39m pspnet_50_ADE_20K()\n",
      "File \u001b[0;32m/opt/homebrew/Caskroom/miniforge/base/envs/tf-metal/lib/python3.9/site-packages/keras_segmentation/pretrained.py:48\u001b[0m, in \u001b[0;36mpspnet_50_ADE_20K\u001b[0;34m()\u001b[0m\n\u001b[1;32m     44\u001b[0m model_url \u001b[39m=\u001b[39m \u001b[39m\"\u001b[39m\u001b[39mhttps://www.dropbox.com/s/\u001b[39m\u001b[39m\"\u001b[39m \\\n\u001b[1;32m     45\u001b[0m             \u001b[39m\"\u001b[39m\u001b[39m0uxn14y26jcui4v/pspnet50_ade20k.h5?dl=1\u001b[39m\u001b[39m\"\u001b[39m\n\u001b[1;32m     46\u001b[0m latest_weights \u001b[39m=\u001b[39m keras\u001b[39m.\u001b[39mutils\u001b[39m.\u001b[39mget_file(\u001b[39m\"\u001b[39m\u001b[39mpspnet50_ade20k.h5\u001b[39m\u001b[39m\"\u001b[39m, model_url)\n\u001b[0;32m---> 48\u001b[0m \u001b[39mreturn\u001b[39;00m model_from_checkpoint_path(model_config, latest_weights)\n",
      "File \u001b[0;32m/opt/homebrew/Caskroom/miniforge/base/envs/tf-metal/lib/python3.9/site-packages/keras_segmentation/pretrained.py:8\u001b[0m, in \u001b[0;36mmodel_from_checkpoint_path\u001b[0;34m(model_config, latest_weights)\u001b[0m\n\u001b[1;32m      6\u001b[0m \u001b[39mdef\u001b[39;00m \u001b[39mmodel_from_checkpoint_path\u001b[39m(model_config, latest_weights):\n\u001b[0;32m----> 8\u001b[0m     model \u001b[39m=\u001b[39m model_from_name[model_config[\u001b[39m'\u001b[39;49m\u001b[39mmodel_class\u001b[39;49m\u001b[39m'\u001b[39;49m]](\n\u001b[1;32m      9\u001b[0m         model_config[\u001b[39m'\u001b[39;49m\u001b[39mn_classes\u001b[39;49m\u001b[39m'\u001b[39;49m], input_height\u001b[39m=\u001b[39;49mmodel_config[\u001b[39m'\u001b[39;49m\u001b[39minput_height\u001b[39;49m\u001b[39m'\u001b[39;49m],\n\u001b[1;32m     10\u001b[0m         input_width\u001b[39m=\u001b[39;49mmodel_config[\u001b[39m'\u001b[39;49m\u001b[39minput_width\u001b[39;49m\u001b[39m'\u001b[39;49m])\n\u001b[1;32m     11\u001b[0m     model\u001b[39m.\u001b[39mload_weights(latest_weights)\n\u001b[1;32m     12\u001b[0m     \u001b[39mreturn\u001b[39;00m model\n",
      "File \u001b[0;32m/opt/homebrew/Caskroom/miniforge/base/envs/tf-metal/lib/python3.9/site-packages/keras_segmentation/models/pspnet.py:102\u001b[0m, in \u001b[0;36mpspnet_50\u001b[0;34m(n_classes, input_height, input_width)\u001b[0m\n\u001b[1;32m    101\u001b[0m \u001b[39mdef\u001b[39;00m \u001b[39mpspnet_50\u001b[39m(n_classes,  input_height\u001b[39m=\u001b[39m\u001b[39m473\u001b[39m, input_width\u001b[39m=\u001b[39m\u001b[39m473\u001b[39m):\n\u001b[0;32m--> 102\u001b[0m     \u001b[39mfrom\u001b[39;00m \u001b[39m.\u001b[39;00m\u001b[39m_pspnet_2\u001b[39;00m \u001b[39mimport\u001b[39;00m _build_pspnet\n\u001b[1;32m    104\u001b[0m     nb_classes \u001b[39m=\u001b[39m n_classes\n\u001b[1;32m    105\u001b[0m     resnet_layers \u001b[39m=\u001b[39m \u001b[39m50\u001b[39m\n",
      "File \u001b[0;32m/opt/homebrew/Caskroom/miniforge/base/envs/tf-metal/lib/python3.9/site-packages/keras_segmentation/models/_pspnet_2.py:9\u001b[0m\n\u001b[1;32m      6\u001b[0m \u001b[39mfrom\u001b[39;00m \u001b[39mkeras\u001b[39;00m\u001b[39m.\u001b[39;00m\u001b[39mlayers\u001b[39;00m \u001b[39mimport\u001b[39;00m Conv2D, MaxPooling2D, AveragePooling2D\n\u001b[1;32m      7\u001b[0m \u001b[39mfrom\u001b[39;00m \u001b[39mkeras\u001b[39;00m\u001b[39m.\u001b[39;00m\u001b[39mlayers\u001b[39;00m \u001b[39mimport\u001b[39;00m BatchNormalization, Activation,\\\n\u001b[1;32m      8\u001b[0m     Input, Dropout, ZeroPadding2D\n\u001b[0;32m----> 9\u001b[0m \u001b[39mfrom\u001b[39;00m \u001b[39mkeras\u001b[39;00m\u001b[39m.\u001b[39;00m\u001b[39mlayers\u001b[39;00m\u001b[39m.\u001b[39;00m\u001b[39mmerge\u001b[39;00m \u001b[39mimport\u001b[39;00m Concatenate, Add\n\u001b[1;32m     10\u001b[0m \u001b[39mimport\u001b[39;00m \u001b[39mtensorflow\u001b[39;00m \u001b[39mas\u001b[39;00m \u001b[39mtf\u001b[39;00m\n\u001b[1;32m     12\u001b[0m \u001b[39mfrom\u001b[39;00m \u001b[39m.\u001b[39;00m\u001b[39mconfig\u001b[39;00m \u001b[39mimport\u001b[39;00m IMAGE_ORDERING\n",
      "\u001b[0;31mModuleNotFoundError\u001b[0m: No module named 'keras.layers.merge'"
     ]
    }
   ],
   "source": [
    "model = pspnet_50_ADE_20K()"
   ]
  },
  {
   "cell_type": "code",
   "execution_count": null,
   "metadata": {},
   "outputs": [],
   "source": [
    "out = model.predict_segmentation(\n",
    "    inp=\"StateLineWeir_20130612_Farrell_368.JPG\",\n",
    "    out_fname=\"out.png\"\n",
    ")"
   ]
  }
 ],
 "metadata": {
  "kernelspec": {
   "display_name": "Python 3.9.13 ('tf-metal')",
   "language": "python",
   "name": "python3"
  },
  "language_info": {
   "codemirror_mode": {
    "name": "ipython",
    "version": 3
   },
   "file_extension": ".py",
   "mimetype": "text/x-python",
   "name": "python",
   "nbconvert_exporter": "python",
   "pygments_lexer": "ipython3",
   "version": "3.9.13"
  },
  "orig_nbformat": 4,
  "vscode": {
   "interpreter": {
    "hash": "8a1bd572fd0f4f67cef828f420abb2a48a986357b672298ff9e029f8a13a5ab1"
   }
  }
 },
 "nbformat": 4,
 "nbformat_minor": 2
}
