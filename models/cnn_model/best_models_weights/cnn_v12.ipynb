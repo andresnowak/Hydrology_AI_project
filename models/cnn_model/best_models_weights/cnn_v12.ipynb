{
 "cells": [
  {
   "cell_type": "code",
   "execution_count": 1,
   "metadata": {},
   "outputs": [
    {
     "name": "stdout",
     "output_type": "stream",
     "text": [
      "env: LD_LIBRARY_PATH=$LD_LIBRARY_PATH:$CONDA_PREFIX/lib/\n"
     ]
    }
   ],
   "source": [
    "%env LD_LIBRARY_PATH=$LD_LIBRARY_PATH:$CONDA_PREFIX/lib/\n",
    "#%env TF_GPU_ALLOCATOR=cuda_malloc_async"
   ]
  },
  {
   "cell_type": "code",
   "execution_count": 2,
   "metadata": {},
   "outputs": [
    {
     "name": "stdout",
     "output_type": "stream",
     "text": [
      "$LD_LIBRARY_PATH:$CONDA_PREFIX/lib/\n"
     ]
    }
   ],
   "source": [
    "import os\n",
    "print(os.environ[\"LD_LIBRARY_PATH\"])"
   ]
  },
  {
   "cell_type": "code",
   "execution_count": 1,
   "metadata": {},
   "outputs": [
    {
     "name": "stderr",
     "output_type": "stream",
     "text": [
      "2022-11-03 22:13:21.588312: I tensorflow/core/platform/cpu_feature_guard.cc:193] This TensorFlow binary is optimized with oneAPI Deep Neural Network Library (oneDNN) to use the following CPU instructions in performance-critical operations:  AVX2 FMA\n",
      "To enable them in other operations, rebuild TensorFlow with the appropriate compiler flags.\n",
      "2022-11-03 22:13:22.142775: E tensorflow/stream_executor/cuda/cuda_blas.cc:2981] Unable to register cuBLAS factory: Attempting to register factory for plugin cuBLAS when one has already been registered\n",
      "2022-11-03 22:13:23.284245: W tensorflow/stream_executor/platform/default/dso_loader.cc:64] Could not load dynamic library 'libnvinfer.so.7'; dlerror: libnvinfer.so.7: cannot open shared object file: No such file or directory; LD_LIBRARY_PATH: :/home/nkspartan/miniconda3/envs/tf-gpu/lib/:/home/nkspartan/miniconda3/envs/tf-gpu/lib/\n",
      "2022-11-03 22:13:23.284487: W tensorflow/stream_executor/platform/default/dso_loader.cc:64] Could not load dynamic library 'libnvinfer_plugin.so.7'; dlerror: libnvinfer_plugin.so.7: cannot open shared object file: No such file or directory; LD_LIBRARY_PATH: :/home/nkspartan/miniconda3/envs/tf-gpu/lib/:/home/nkspartan/miniconda3/envs/tf-gpu/lib/\n",
      "2022-11-03 22:13:23.284497: W tensorflow/compiler/tf2tensorrt/utils/py_utils.cc:38] TF-TRT Warning: Cannot dlopen some TensorRT libraries. If you would like to use Nvidia GPU with TensorRT, please make sure the missing libraries mentioned above are installed properly.\n"
     ]
    }
   ],
   "source": [
    "import tensorflow as tf\n",
    "import numpy as np\n",
    "import pandas as pd\n",
    "import os\n",
    "import matplotlib.pyplot as plt\n",
    "\n",
    "from tensorflow.keras import Sequential, models, Input\n",
    "from tensorflow.keras.layers import Dense, Flatten, Conv2D, MaxPooling2D, Dropout, LeakyReLU, AveragePooling2D, GlobalAveragePooling2D, BatchNormalization, TimeDistributed, LSTM, SpatialDropout2D\n",
    "from tensorflow.keras.optimizers import SGD, Adam"
   ]
  },
  {
   "cell_type": "code",
   "execution_count": 2,
   "metadata": {},
   "outputs": [
    {
     "name": "stdout",
     "output_type": "stream",
     "text": [
      "Default GPU Device: /device:GPU:0\n"
     ]
    },
    {
     "name": "stderr",
     "output_type": "stream",
     "text": [
      "2022-11-03 22:13:24.971054: I tensorflow/core/platform/cpu_feature_guard.cc:193] This TensorFlow binary is optimized with oneAPI Deep Neural Network Library (oneDNN) to use the following CPU instructions in performance-critical operations:  AVX2 FMA\n",
      "To enable them in other operations, rebuild TensorFlow with the appropriate compiler flags.\n",
      "2022-11-03 22:13:25.006076: I tensorflow/stream_executor/cuda/cuda_gpu_executor.cc:980] successful NUMA node read from SysFS had negative value (-1), but there must be at least one NUMA node, so returning NUMA node zero\n",
      "2022-11-03 22:13:25.050066: I tensorflow/stream_executor/cuda/cuda_gpu_executor.cc:980] successful NUMA node read from SysFS had negative value (-1), but there must be at least one NUMA node, so returning NUMA node zero\n",
      "2022-11-03 22:13:25.050275: I tensorflow/stream_executor/cuda/cuda_gpu_executor.cc:980] successful NUMA node read from SysFS had negative value (-1), but there must be at least one NUMA node, so returning NUMA node zero\n",
      "2022-11-03 22:13:25.934775: I tensorflow/stream_executor/cuda/cuda_gpu_executor.cc:980] successful NUMA node read from SysFS had negative value (-1), but there must be at least one NUMA node, so returning NUMA node zero\n",
      "2022-11-03 22:13:25.935857: I tensorflow/stream_executor/cuda/cuda_gpu_executor.cc:980] successful NUMA node read from SysFS had negative value (-1), but there must be at least one NUMA node, so returning NUMA node zero\n",
      "2022-11-03 22:13:25.936081: I tensorflow/stream_executor/cuda/cuda_gpu_executor.cc:980] successful NUMA node read from SysFS had negative value (-1), but there must be at least one NUMA node, so returning NUMA node zero\n",
      "2022-11-03 22:13:25.936259: I tensorflow/core/common_runtime/gpu/gpu_device.cc:1616] Created device /device:GPU:0 with 4008 MB memory:  -> device: 0, name: NVIDIA GeForce RTX 2060, pci bus id: 0000:08:00.0, compute capability: 7.5\n"
     ]
    }
   ],
   "source": [
    "from tensorflow.python.client import device_lib\n",
    "\n",
    "print('Default GPU Device: {}'.format(tf.test.gpu_device_name()))"
   ]
  },
  {
   "cell_type": "code",
   "execution_count": 3,
   "metadata": {},
   "outputs": [
    {
     "name": "stderr",
     "output_type": "stream",
     "text": [
      "2022-11-03 22:13:25.991236: I tensorflow/stream_executor/cuda/cuda_gpu_executor.cc:980] successful NUMA node read from SysFS had negative value (-1), but there must be at least one NUMA node, so returning NUMA node zero\n",
      "2022-11-03 22:13:25.992002: I tensorflow/stream_executor/cuda/cuda_gpu_executor.cc:980] successful NUMA node read from SysFS had negative value (-1), but there must be at least one NUMA node, so returning NUMA node zero\n",
      "2022-11-03 22:13:25.992181: I tensorflow/stream_executor/cuda/cuda_gpu_executor.cc:980] successful NUMA node read from SysFS had negative value (-1), but there must be at least one NUMA node, so returning NUMA node zero\n"
     ]
    }
   ],
   "source": [
    "physical_devices = tf.config.list_physical_devices('GPU') \n",
    "tf.config.experimental.set_memory_growth(physical_devices[0], True)"
   ]
  },
  {
   "cell_type": "markdown",
   "metadata": {},
   "source": [
    "## Read the csv dataset to get the values for stage and discharge of the images"
   ]
  },
  {
   "cell_type": "code",
   "execution_count": 4,
   "metadata": {},
   "outputs": [
    {
     "data": {
      "text/html": [
       "<div>\n",
       "<style scoped>\n",
       "    .dataframe tbody tr th:only-of-type {\n",
       "        vertical-align: middle;\n",
       "    }\n",
       "\n",
       "    .dataframe tbody tr th {\n",
       "        vertical-align: top;\n",
       "    }\n",
       "\n",
       "    .dataframe thead th {\n",
       "        text-align: right;\n",
       "    }\n",
       "</style>\n",
       "<table border=\"1\" class=\"dataframe\">\n",
       "  <thead>\n",
       "    <tr style=\"text-align: right;\">\n",
       "      <th></th>\n",
       "      <th>Unnamed: 0</th>\n",
       "      <th>SensorTime</th>\n",
       "      <th>CaptureTime</th>\n",
       "      <th>Filename</th>\n",
       "      <th>Agency</th>\n",
       "      <th>SiteNumber</th>\n",
       "      <th>TimeZone</th>\n",
       "      <th>Stage</th>\n",
       "      <th>Discharge</th>\n",
       "      <th>CalcTimestamp</th>\n",
       "      <th>...</th>\n",
       "      <th>WeirPt2X</th>\n",
       "      <th>WeirPt2Y</th>\n",
       "      <th>WwRawLineMin</th>\n",
       "      <th>WwRawLineMax</th>\n",
       "      <th>WwRawLineMean</th>\n",
       "      <th>WwRawLineSigma</th>\n",
       "      <th>WwCurveLineMin</th>\n",
       "      <th>WwCurveLineMax</th>\n",
       "      <th>WwCurveLineMean</th>\n",
       "      <th>WwCurveLineSigma</th>\n",
       "    </tr>\n",
       "  </thead>\n",
       "  <tbody>\n",
       "    <tr>\n",
       "      <th>0</th>\n",
       "      <td>0</td>\n",
       "      <td>2012-06-09 13:15:00</td>\n",
       "      <td>2012-06-09T13:09:07</td>\n",
       "      <td>StateLineWeir_20120609_Farrell_001.jpg</td>\n",
       "      <td>USGS</td>\n",
       "      <td>6674500</td>\n",
       "      <td>MDT</td>\n",
       "      <td>2.99</td>\n",
       "      <td>916.0</td>\n",
       "      <td>2020-03-11T16:58:28</td>\n",
       "      <td>...</td>\n",
       "      <td>-1</td>\n",
       "      <td>-1</td>\n",
       "      <td>0.0</td>\n",
       "      <td>0.0</td>\n",
       "      <td>0.0</td>\n",
       "      <td>0.0</td>\n",
       "      <td>0.0</td>\n",
       "      <td>0.0</td>\n",
       "      <td>0.0</td>\n",
       "      <td>0.0</td>\n",
       "    </tr>\n",
       "    <tr>\n",
       "      <th>1</th>\n",
       "      <td>1</td>\n",
       "      <td>2012-06-09 13:15:00</td>\n",
       "      <td>2012-06-09T13:10:29</td>\n",
       "      <td>StateLineWeir_20120609_Farrell_002.jpg</td>\n",
       "      <td>USGS</td>\n",
       "      <td>6674500</td>\n",
       "      <td>MDT</td>\n",
       "      <td>2.99</td>\n",
       "      <td>916.0</td>\n",
       "      <td>2020-03-11T16:58:33</td>\n",
       "      <td>...</td>\n",
       "      <td>-1</td>\n",
       "      <td>-1</td>\n",
       "      <td>0.0</td>\n",
       "      <td>0.0</td>\n",
       "      <td>0.0</td>\n",
       "      <td>0.0</td>\n",
       "      <td>0.0</td>\n",
       "      <td>0.0</td>\n",
       "      <td>0.0</td>\n",
       "      <td>0.0</td>\n",
       "    </tr>\n",
       "    <tr>\n",
       "      <th>2</th>\n",
       "      <td>2</td>\n",
       "      <td>2012-06-09 13:45:00</td>\n",
       "      <td>2012-06-09T13:44:01</td>\n",
       "      <td>StateLineWeir_20120609_Farrell_003.jpg</td>\n",
       "      <td>USGS</td>\n",
       "      <td>6674500</td>\n",
       "      <td>MDT</td>\n",
       "      <td>2.96</td>\n",
       "      <td>873.0</td>\n",
       "      <td>2020-03-11T16:58:40</td>\n",
       "      <td>...</td>\n",
       "      <td>-1</td>\n",
       "      <td>-1</td>\n",
       "      <td>0.0</td>\n",
       "      <td>0.0</td>\n",
       "      <td>0.0</td>\n",
       "      <td>0.0</td>\n",
       "      <td>0.0</td>\n",
       "      <td>0.0</td>\n",
       "      <td>0.0</td>\n",
       "      <td>0.0</td>\n",
       "    </tr>\n",
       "    <tr>\n",
       "      <th>3</th>\n",
       "      <td>3</td>\n",
       "      <td>2012-06-09 14:45:00</td>\n",
       "      <td>2012-06-09T14:44:30</td>\n",
       "      <td>StateLineWeir_20120609_Farrell_004.jpg</td>\n",
       "      <td>USGS</td>\n",
       "      <td>6674500</td>\n",
       "      <td>MDT</td>\n",
       "      <td>2.94</td>\n",
       "      <td>846.0</td>\n",
       "      <td>2020-03-11T16:58:47</td>\n",
       "      <td>...</td>\n",
       "      <td>-1</td>\n",
       "      <td>-1</td>\n",
       "      <td>0.0</td>\n",
       "      <td>0.0</td>\n",
       "      <td>0.0</td>\n",
       "      <td>0.0</td>\n",
       "      <td>0.0</td>\n",
       "      <td>0.0</td>\n",
       "      <td>0.0</td>\n",
       "      <td>0.0</td>\n",
       "    </tr>\n",
       "    <tr>\n",
       "      <th>4</th>\n",
       "      <td>4</td>\n",
       "      <td>2012-06-09 15:45:00</td>\n",
       "      <td>2012-06-09T15:44:59</td>\n",
       "      <td>StateLineWeir_20120609_Farrell_005.jpg</td>\n",
       "      <td>USGS</td>\n",
       "      <td>6674500</td>\n",
       "      <td>MDT</td>\n",
       "      <td>2.94</td>\n",
       "      <td>846.0</td>\n",
       "      <td>2020-03-11T16:58:55</td>\n",
       "      <td>...</td>\n",
       "      <td>-1</td>\n",
       "      <td>-1</td>\n",
       "      <td>0.0</td>\n",
       "      <td>0.0</td>\n",
       "      <td>0.0</td>\n",
       "      <td>0.0</td>\n",
       "      <td>0.0</td>\n",
       "      <td>0.0</td>\n",
       "      <td>0.0</td>\n",
       "      <td>0.0</td>\n",
       "    </tr>\n",
       "  </tbody>\n",
       "</table>\n",
       "<p>5 rows × 60 columns</p>\n",
       "</div>"
      ],
      "text/plain": [
       "   Unnamed: 0           SensorTime          CaptureTime  \\\n",
       "0           0  2012-06-09 13:15:00  2012-06-09T13:09:07   \n",
       "1           1  2012-06-09 13:15:00  2012-06-09T13:10:29   \n",
       "2           2  2012-06-09 13:45:00  2012-06-09T13:44:01   \n",
       "3           3  2012-06-09 14:45:00  2012-06-09T14:44:30   \n",
       "4           4  2012-06-09 15:45:00  2012-06-09T15:44:59   \n",
       "\n",
       "                                 Filename Agency  SiteNumber TimeZone  Stage  \\\n",
       "0  StateLineWeir_20120609_Farrell_001.jpg   USGS     6674500      MDT   2.99   \n",
       "1  StateLineWeir_20120609_Farrell_002.jpg   USGS     6674500      MDT   2.99   \n",
       "2  StateLineWeir_20120609_Farrell_003.jpg   USGS     6674500      MDT   2.96   \n",
       "3  StateLineWeir_20120609_Farrell_004.jpg   USGS     6674500      MDT   2.94   \n",
       "4  StateLineWeir_20120609_Farrell_005.jpg   USGS     6674500      MDT   2.94   \n",
       "\n",
       "   Discharge        CalcTimestamp  ...  WeirPt2X  WeirPt2Y  WwRawLineMin  \\\n",
       "0      916.0  2020-03-11T16:58:28  ...        -1        -1           0.0   \n",
       "1      916.0  2020-03-11T16:58:33  ...        -1        -1           0.0   \n",
       "2      873.0  2020-03-11T16:58:40  ...        -1        -1           0.0   \n",
       "3      846.0  2020-03-11T16:58:47  ...        -1        -1           0.0   \n",
       "4      846.0  2020-03-11T16:58:55  ...        -1        -1           0.0   \n",
       "\n",
       "   WwRawLineMax  WwRawLineMean  WwRawLineSigma  WwCurveLineMin  \\\n",
       "0           0.0            0.0             0.0             0.0   \n",
       "1           0.0            0.0             0.0             0.0   \n",
       "2           0.0            0.0             0.0             0.0   \n",
       "3           0.0            0.0             0.0             0.0   \n",
       "4           0.0            0.0             0.0             0.0   \n",
       "\n",
       "   WwCurveLineMax  WwCurveLineMean  WwCurveLineSigma  \n",
       "0             0.0              0.0               0.0  \n",
       "1             0.0              0.0               0.0  \n",
       "2             0.0              0.0               0.0  \n",
       "3             0.0              0.0               0.0  \n",
       "4             0.0              0.0               0.0  \n",
       "\n",
       "[5 rows x 60 columns]"
      ]
     },
     "execution_count": 4,
     "metadata": {},
     "output_type": "execute_result"
    }
   ],
   "source": [
    "df = pd.read_csv(\"../../dataset/2012_2019_PlatteRiverWeir_features_merged_all.csv\")\n",
    "df.head()"
   ]
  },
  {
   "cell_type": "code",
   "execution_count": 5,
   "metadata": {},
   "outputs": [],
   "source": [
    "df = df[[\"Filename\", \"Stage\", \"Discharge\", 'SensorTime']]"
   ]
  },
  {
   "cell_type": "code",
   "execution_count": 6,
   "metadata": {},
   "outputs": [
    {
     "data": {
      "text/html": [
       "<div>\n",
       "<style scoped>\n",
       "    .dataframe tbody tr th:only-of-type {\n",
       "        vertical-align: middle;\n",
       "    }\n",
       "\n",
       "    .dataframe tbody tr th {\n",
       "        vertical-align: top;\n",
       "    }\n",
       "\n",
       "    .dataframe thead th {\n",
       "        text-align: right;\n",
       "    }\n",
       "</style>\n",
       "<table border=\"1\" class=\"dataframe\">\n",
       "  <thead>\n",
       "    <tr style=\"text-align: right;\">\n",
       "      <th></th>\n",
       "      <th>Filename</th>\n",
       "      <th>Stage</th>\n",
       "      <th>Discharge</th>\n",
       "      <th>SensorTime</th>\n",
       "      <th>Year</th>\n",
       "    </tr>\n",
       "  </thead>\n",
       "  <tbody>\n",
       "    <tr>\n",
       "      <th>0</th>\n",
       "      <td>StateLineWeir_20120609_Farrell_001.jpg</td>\n",
       "      <td>2.99</td>\n",
       "      <td>916.0</td>\n",
       "      <td>2012-06-09 13:15:00</td>\n",
       "      <td>2012</td>\n",
       "    </tr>\n",
       "    <tr>\n",
       "      <th>1</th>\n",
       "      <td>StateLineWeir_20120609_Farrell_002.jpg</td>\n",
       "      <td>2.99</td>\n",
       "      <td>916.0</td>\n",
       "      <td>2012-06-09 13:15:00</td>\n",
       "      <td>2012</td>\n",
       "    </tr>\n",
       "    <tr>\n",
       "      <th>2</th>\n",
       "      <td>StateLineWeir_20120609_Farrell_003.jpg</td>\n",
       "      <td>2.96</td>\n",
       "      <td>873.0</td>\n",
       "      <td>2012-06-09 13:45:00</td>\n",
       "      <td>2012</td>\n",
       "    </tr>\n",
       "    <tr>\n",
       "      <th>3</th>\n",
       "      <td>StateLineWeir_20120609_Farrell_004.jpg</td>\n",
       "      <td>2.94</td>\n",
       "      <td>846.0</td>\n",
       "      <td>2012-06-09 14:45:00</td>\n",
       "      <td>2012</td>\n",
       "    </tr>\n",
       "    <tr>\n",
       "      <th>4</th>\n",
       "      <td>StateLineWeir_20120609_Farrell_005.jpg</td>\n",
       "      <td>2.94</td>\n",
       "      <td>846.0</td>\n",
       "      <td>2012-06-09 15:45:00</td>\n",
       "      <td>2012</td>\n",
       "    </tr>\n",
       "  </tbody>\n",
       "</table>\n",
       "</div>"
      ],
      "text/plain": [
       "                                 Filename  Stage  Discharge  \\\n",
       "0  StateLineWeir_20120609_Farrell_001.jpg   2.99      916.0   \n",
       "1  StateLineWeir_20120609_Farrell_002.jpg   2.99      916.0   \n",
       "2  StateLineWeir_20120609_Farrell_003.jpg   2.96      873.0   \n",
       "3  StateLineWeir_20120609_Farrell_004.jpg   2.94      846.0   \n",
       "4  StateLineWeir_20120609_Farrell_005.jpg   2.94      846.0   \n",
       "\n",
       "           SensorTime  Year  \n",
       "0 2012-06-09 13:15:00  2012  \n",
       "1 2012-06-09 13:15:00  2012  \n",
       "2 2012-06-09 13:45:00  2012  \n",
       "3 2012-06-09 14:45:00  2012  \n",
       "4 2012-06-09 15:45:00  2012  "
      ]
     },
     "execution_count": 6,
     "metadata": {},
     "output_type": "execute_result"
    }
   ],
   "source": [
    "df['SensorTime'] = pd.to_datetime(df['SensorTime'])\n",
    "df['Year'] = df['SensorTime'].dt.year\n",
    "df.head()"
   ]
  },
  {
   "cell_type": "code",
   "execution_count": 7,
   "metadata": {},
   "outputs": [
    {
     "data": {
      "text/html": [
       "<div>\n",
       "<style scoped>\n",
       "    .dataframe tbody tr th:only-of-type {\n",
       "        vertical-align: middle;\n",
       "    }\n",
       "\n",
       "    .dataframe tbody tr th {\n",
       "        vertical-align: top;\n",
       "    }\n",
       "\n",
       "    .dataframe thead th {\n",
       "        text-align: right;\n",
       "    }\n",
       "</style>\n",
       "<table border=\"1\" class=\"dataframe\">\n",
       "  <thead>\n",
       "    <tr style=\"text-align: right;\">\n",
       "      <th></th>\n",
       "      <th>Filename</th>\n",
       "      <th>Stage</th>\n",
       "      <th>Discharge</th>\n",
       "      <th>SensorTime</th>\n",
       "      <th>Year</th>\n",
       "    </tr>\n",
       "  </thead>\n",
       "  <tbody>\n",
       "    <tr>\n",
       "      <th>0</th>\n",
       "      <td>StateLineWeir_20120609_Farrell_001.jpg</td>\n",
       "      <td>2.99</td>\n",
       "      <td>916.0</td>\n",
       "      <td>2012-06-09 13:15:00</td>\n",
       "      <td>2012</td>\n",
       "    </tr>\n",
       "    <tr>\n",
       "      <th>1</th>\n",
       "      <td>StateLineWeir_20120609_Farrell_002.jpg</td>\n",
       "      <td>2.99</td>\n",
       "      <td>916.0</td>\n",
       "      <td>2012-06-09 13:15:00</td>\n",
       "      <td>2012</td>\n",
       "    </tr>\n",
       "    <tr>\n",
       "      <th>2</th>\n",
       "      <td>StateLineWeir_20120609_Farrell_003.jpg</td>\n",
       "      <td>2.96</td>\n",
       "      <td>873.0</td>\n",
       "      <td>2012-06-09 13:45:00</td>\n",
       "      <td>2012</td>\n",
       "    </tr>\n",
       "    <tr>\n",
       "      <th>3</th>\n",
       "      <td>StateLineWeir_20120609_Farrell_004.jpg</td>\n",
       "      <td>2.94</td>\n",
       "      <td>846.0</td>\n",
       "      <td>2012-06-09 14:45:00</td>\n",
       "      <td>2012</td>\n",
       "    </tr>\n",
       "    <tr>\n",
       "      <th>4</th>\n",
       "      <td>StateLineWeir_20120609_Farrell_005.jpg</td>\n",
       "      <td>2.94</td>\n",
       "      <td>846.0</td>\n",
       "      <td>2012-06-09 15:45:00</td>\n",
       "      <td>2012</td>\n",
       "    </tr>\n",
       "  </tbody>\n",
       "</table>\n",
       "</div>"
      ],
      "text/plain": [
       "                                 Filename  Stage  Discharge  \\\n",
       "0  StateLineWeir_20120609_Farrell_001.jpg   2.99      916.0   \n",
       "1  StateLineWeir_20120609_Farrell_002.jpg   2.99      916.0   \n",
       "2  StateLineWeir_20120609_Farrell_003.jpg   2.96      873.0   \n",
       "3  StateLineWeir_20120609_Farrell_004.jpg   2.94      846.0   \n",
       "4  StateLineWeir_20120609_Farrell_005.jpg   2.94      846.0   \n",
       "\n",
       "           SensorTime  Year  \n",
       "0 2012-06-09 13:15:00  2012  \n",
       "1 2012-06-09 13:15:00  2012  \n",
       "2 2012-06-09 13:45:00  2012  \n",
       "3 2012-06-09 14:45:00  2012  \n",
       "4 2012-06-09 15:45:00  2012  "
      ]
     },
     "execution_count": 7,
     "metadata": {},
     "output_type": "execute_result"
    }
   ],
   "source": [
    "df = df.sort_values(by=\"SensorTime\", ascending=True)\n",
    "df.head()"
   ]
  },
  {
   "cell_type": "markdown",
   "metadata": {},
   "source": [
    "### Remove outliers"
   ]
  },
  {
   "cell_type": "code",
   "execution_count": 8,
   "metadata": {},
   "outputs": [],
   "source": [
    "df = df[df.Stage > 0]\n",
    "df = df[df.Discharge > 0]"
   ]
  },
  {
   "cell_type": "markdown",
   "metadata": {},
   "source": [
    "We consider values equal to 0 as outliers because from the photos it doesn't seem that it would be possible that at this time we would have a value of 0 for stage or discharge"
   ]
  },
  {
   "cell_type": "code",
   "execution_count": 9,
   "metadata": {},
   "outputs": [
    {
     "data": {
      "text/plain": [
       "(40148, 5)"
      ]
     },
     "execution_count": 9,
     "metadata": {},
     "output_type": "execute_result"
    }
   ],
   "source": [
    "df.shape"
   ]
  },
  {
   "cell_type": "markdown",
   "metadata": {},
   "source": [
    "### Scale the data"
   ]
  },
  {
   "cell_type": "code",
   "execution_count": 10,
   "metadata": {},
   "outputs": [],
   "source": [
    "from sklearn.preprocessing import StandardScaler\n",
    "from joblib import load\n",
    "\n",
    "scaler = StandardScaler()\n",
    "#scaler = load('std_scaler.joblib') # scaler with all the 42059 observations"
   ]
  },
  {
   "cell_type": "markdown",
   "metadata": {},
   "source": [
    "Scale the data based only on the training dataset (in this case the training dataset is from 2012 to 2016)"
   ]
  },
  {
   "cell_type": "code",
   "execution_count": 11,
   "metadata": {},
   "outputs": [
    {
     "data": {
      "text/html": [
       "<div>\n",
       "<style scoped>\n",
       "    .dataframe tbody tr th:only-of-type {\n",
       "        vertical-align: middle;\n",
       "    }\n",
       "\n",
       "    .dataframe tbody tr th {\n",
       "        vertical-align: top;\n",
       "    }\n",
       "\n",
       "    .dataframe thead th {\n",
       "        text-align: right;\n",
       "    }\n",
       "</style>\n",
       "<table border=\"1\" class=\"dataframe\">\n",
       "  <thead>\n",
       "    <tr style=\"text-align: right;\">\n",
       "      <th></th>\n",
       "      <th>Stage</th>\n",
       "      <th>Discharge</th>\n",
       "    </tr>\n",
       "  </thead>\n",
       "  <tbody>\n",
       "    <tr>\n",
       "      <th>0</th>\n",
       "      <td>2.99</td>\n",
       "      <td>916.0</td>\n",
       "    </tr>\n",
       "    <tr>\n",
       "      <th>1</th>\n",
       "      <td>2.99</td>\n",
       "      <td>916.0</td>\n",
       "    </tr>\n",
       "    <tr>\n",
       "      <th>2</th>\n",
       "      <td>2.96</td>\n",
       "      <td>873.0</td>\n",
       "    </tr>\n",
       "    <tr>\n",
       "      <th>3</th>\n",
       "      <td>2.94</td>\n",
       "      <td>846.0</td>\n",
       "    </tr>\n",
       "    <tr>\n",
       "      <th>4</th>\n",
       "      <td>2.94</td>\n",
       "      <td>846.0</td>\n",
       "    </tr>\n",
       "    <tr>\n",
       "      <th>...</th>\n",
       "      <td>...</td>\n",
       "      <td>...</td>\n",
       "    </tr>\n",
       "    <tr>\n",
       "      <th>21416</th>\n",
       "      <td>2.38</td>\n",
       "      <td>279.0</td>\n",
       "    </tr>\n",
       "    <tr>\n",
       "      <th>21417</th>\n",
       "      <td>2.38</td>\n",
       "      <td>279.0</td>\n",
       "    </tr>\n",
       "    <tr>\n",
       "      <th>21418</th>\n",
       "      <td>2.38</td>\n",
       "      <td>279.0</td>\n",
       "    </tr>\n",
       "    <tr>\n",
       "      <th>21419</th>\n",
       "      <td>2.38</td>\n",
       "      <td>279.0</td>\n",
       "    </tr>\n",
       "    <tr>\n",
       "      <th>21420</th>\n",
       "      <td>2.38</td>\n",
       "      <td>279.0</td>\n",
       "    </tr>\n",
       "  </tbody>\n",
       "</table>\n",
       "<p>20304 rows × 2 columns</p>\n",
       "</div>"
      ],
      "text/plain": [
       "       Stage  Discharge\n",
       "0       2.99      916.0\n",
       "1       2.99      916.0\n",
       "2       2.96      873.0\n",
       "3       2.94      846.0\n",
       "4       2.94      846.0\n",
       "...      ...        ...\n",
       "21416   2.38      279.0\n",
       "21417   2.38      279.0\n",
       "21418   2.38      279.0\n",
       "21419   2.38      279.0\n",
       "21420   2.38      279.0\n",
       "\n",
       "[20304 rows x 2 columns]"
      ]
     },
     "execution_count": 11,
     "metadata": {},
     "output_type": "execute_result"
    }
   ],
   "source": [
    "data_to_scale_fit = df[(df[\"Year\"] >= 2012) & (df[\"Year\"] <= 2016)][[\"Stage\", \"Discharge\"]]\n",
    "data_to_scale_fit"
   ]
  },
  {
   "cell_type": "code",
   "execution_count": 12,
   "metadata": {},
   "outputs": [
    {
     "data": {
      "text/html": [
       "<style>#sk-container-id-1 {color: black;background-color: white;}#sk-container-id-1 pre{padding: 0;}#sk-container-id-1 div.sk-toggleable {background-color: white;}#sk-container-id-1 label.sk-toggleable__label {cursor: pointer;display: block;width: 100%;margin-bottom: 0;padding: 0.3em;box-sizing: border-box;text-align: center;}#sk-container-id-1 label.sk-toggleable__label-arrow:before {content: \"▸\";float: left;margin-right: 0.25em;color: #696969;}#sk-container-id-1 label.sk-toggleable__label-arrow:hover:before {color: black;}#sk-container-id-1 div.sk-estimator:hover label.sk-toggleable__label-arrow:before {color: black;}#sk-container-id-1 div.sk-toggleable__content {max-height: 0;max-width: 0;overflow: hidden;text-align: left;background-color: #f0f8ff;}#sk-container-id-1 div.sk-toggleable__content pre {margin: 0.2em;color: black;border-radius: 0.25em;background-color: #f0f8ff;}#sk-container-id-1 input.sk-toggleable__control:checked~div.sk-toggleable__content {max-height: 200px;max-width: 100%;overflow: auto;}#sk-container-id-1 input.sk-toggleable__control:checked~label.sk-toggleable__label-arrow:before {content: \"▾\";}#sk-container-id-1 div.sk-estimator input.sk-toggleable__control:checked~label.sk-toggleable__label {background-color: #d4ebff;}#sk-container-id-1 div.sk-label input.sk-toggleable__control:checked~label.sk-toggleable__label {background-color: #d4ebff;}#sk-container-id-1 input.sk-hidden--visually {border: 0;clip: rect(1px 1px 1px 1px);clip: rect(1px, 1px, 1px, 1px);height: 1px;margin: -1px;overflow: hidden;padding: 0;position: absolute;width: 1px;}#sk-container-id-1 div.sk-estimator {font-family: monospace;background-color: #f0f8ff;border: 1px dotted black;border-radius: 0.25em;box-sizing: border-box;margin-bottom: 0.5em;}#sk-container-id-1 div.sk-estimator:hover {background-color: #d4ebff;}#sk-container-id-1 div.sk-parallel-item::after {content: \"\";width: 100%;border-bottom: 1px solid gray;flex-grow: 1;}#sk-container-id-1 div.sk-label:hover label.sk-toggleable__label {background-color: #d4ebff;}#sk-container-id-1 div.sk-serial::before {content: \"\";position: absolute;border-left: 1px solid gray;box-sizing: border-box;top: 0;bottom: 0;left: 50%;z-index: 0;}#sk-container-id-1 div.sk-serial {display: flex;flex-direction: column;align-items: center;background-color: white;padding-right: 0.2em;padding-left: 0.2em;position: relative;}#sk-container-id-1 div.sk-item {position: relative;z-index: 1;}#sk-container-id-1 div.sk-parallel {display: flex;align-items: stretch;justify-content: center;background-color: white;position: relative;}#sk-container-id-1 div.sk-item::before, #sk-container-id-1 div.sk-parallel-item::before {content: \"\";position: absolute;border-left: 1px solid gray;box-sizing: border-box;top: 0;bottom: 0;left: 50%;z-index: -1;}#sk-container-id-1 div.sk-parallel-item {display: flex;flex-direction: column;z-index: 1;position: relative;background-color: white;}#sk-container-id-1 div.sk-parallel-item:first-child::after {align-self: flex-end;width: 50%;}#sk-container-id-1 div.sk-parallel-item:last-child::after {align-self: flex-start;width: 50%;}#sk-container-id-1 div.sk-parallel-item:only-child::after {width: 0;}#sk-container-id-1 div.sk-dashed-wrapped {border: 1px dashed gray;margin: 0 0.4em 0.5em 0.4em;box-sizing: border-box;padding-bottom: 0.4em;background-color: white;}#sk-container-id-1 div.sk-label label {font-family: monospace;font-weight: bold;display: inline-block;line-height: 1.2em;}#sk-container-id-1 div.sk-label-container {text-align: center;}#sk-container-id-1 div.sk-container {/* jupyter's `normalize.less` sets `[hidden] { display: none; }` but bootstrap.min.css set `[hidden] { display: none !important; }` so we also need the `!important` here to be able to override the default hidden behavior on the sphinx rendered scikit-learn.org. See: https://github.com/scikit-learn/scikit-learn/issues/21755 */display: inline-block !important;position: relative;}#sk-container-id-1 div.sk-text-repr-fallback {display: none;}</style><div id=\"sk-container-id-1\" class=\"sk-top-container\"><div class=\"sk-text-repr-fallback\"><pre>StandardScaler()</pre><b>In a Jupyter environment, please rerun this cell to show the HTML representation or trust the notebook. <br />On GitHub, the HTML representation is unable to render, please try loading this page with nbviewer.org.</b></div><div class=\"sk-container\" hidden><div class=\"sk-item\"><div class=\"sk-estimator sk-toggleable\"><input class=\"sk-toggleable__control sk-hidden--visually\" id=\"sk-estimator-id-1\" type=\"checkbox\" checked><label for=\"sk-estimator-id-1\" class=\"sk-toggleable__label sk-toggleable__label-arrow\">StandardScaler</label><div class=\"sk-toggleable__content\"><pre>StandardScaler()</pre></div></div></div></div></div>"
      ],
      "text/plain": [
       "StandardScaler()"
      ]
     },
     "execution_count": 12,
     "metadata": {},
     "output_type": "execute_result"
    }
   ],
   "source": [
    "scaler.fit(data_to_scale_fit)\n"
   ]
  },
  {
   "cell_type": "code",
   "execution_count": 13,
   "metadata": {},
   "outputs": [
    {
     "data": {
      "text/html": [
       "<div>\n",
       "<style scoped>\n",
       "    .dataframe tbody tr th:only-of-type {\n",
       "        vertical-align: middle;\n",
       "    }\n",
       "\n",
       "    .dataframe tbody tr th {\n",
       "        vertical-align: top;\n",
       "    }\n",
       "\n",
       "    .dataframe thead th {\n",
       "        text-align: right;\n",
       "    }\n",
       "</style>\n",
       "<table border=\"1\" class=\"dataframe\">\n",
       "  <thead>\n",
       "    <tr style=\"text-align: right;\">\n",
       "      <th></th>\n",
       "      <th>Filename</th>\n",
       "      <th>Stage</th>\n",
       "      <th>Discharge</th>\n",
       "      <th>SensorTime</th>\n",
       "      <th>Year</th>\n",
       "    </tr>\n",
       "  </thead>\n",
       "  <tbody>\n",
       "    <tr>\n",
       "      <th>0</th>\n",
       "      <td>StateLineWeir_20120609_Farrell_001.jpg</td>\n",
       "      <td>0.077964</td>\n",
       "      <td>-0.136077</td>\n",
       "      <td>2012-06-09 13:15:00</td>\n",
       "      <td>2012</td>\n",
       "    </tr>\n",
       "    <tr>\n",
       "      <th>1</th>\n",
       "      <td>StateLineWeir_20120609_Farrell_002.jpg</td>\n",
       "      <td>0.077964</td>\n",
       "      <td>-0.136077</td>\n",
       "      <td>2012-06-09 13:15:00</td>\n",
       "      <td>2012</td>\n",
       "    </tr>\n",
       "    <tr>\n",
       "      <th>2</th>\n",
       "      <td>StateLineWeir_20120609_Farrell_003.jpg</td>\n",
       "      <td>0.045759</td>\n",
       "      <td>-0.165451</td>\n",
       "      <td>2012-06-09 13:45:00</td>\n",
       "      <td>2012</td>\n",
       "    </tr>\n",
       "    <tr>\n",
       "      <th>3</th>\n",
       "      <td>StateLineWeir_20120609_Farrell_004.jpg</td>\n",
       "      <td>0.024290</td>\n",
       "      <td>-0.183894</td>\n",
       "      <td>2012-06-09 14:45:00</td>\n",
       "      <td>2012</td>\n",
       "    </tr>\n",
       "    <tr>\n",
       "      <th>4</th>\n",
       "      <td>StateLineWeir_20120609_Farrell_005.jpg</td>\n",
       "      <td>0.024290</td>\n",
       "      <td>-0.183894</td>\n",
       "      <td>2012-06-09 15:45:00</td>\n",
       "      <td>2012</td>\n",
       "    </tr>\n",
       "    <tr>\n",
       "      <th>...</th>\n",
       "      <td>...</td>\n",
       "      <td>...</td>\n",
       "      <td>...</td>\n",
       "      <td>...</td>\n",
       "      <td>...</td>\n",
       "    </tr>\n",
       "    <tr>\n",
       "      <th>42054</th>\n",
       "      <td>StateLineWeir_20191011_Farrell_409.jpg</td>\n",
       "      <td>-0.405103</td>\n",
       "      <td>-0.465332</td>\n",
       "      <td>2019-10-11 09:00:00</td>\n",
       "      <td>2019</td>\n",
       "    </tr>\n",
       "    <tr>\n",
       "      <th>42055</th>\n",
       "      <td>StateLineWeir_20191011_Farrell_410.jpg</td>\n",
       "      <td>-0.405103</td>\n",
       "      <td>-0.465332</td>\n",
       "      <td>2019-10-11 10:00:00</td>\n",
       "      <td>2019</td>\n",
       "    </tr>\n",
       "    <tr>\n",
       "      <th>42056</th>\n",
       "      <td>StateLineWeir_20191011_Farrell_411.jpg</td>\n",
       "      <td>-0.405103</td>\n",
       "      <td>-0.465332</td>\n",
       "      <td>2019-10-11 11:00:00</td>\n",
       "      <td>2019</td>\n",
       "    </tr>\n",
       "    <tr>\n",
       "      <th>42057</th>\n",
       "      <td>StateLineWeir_20191011_Farrell_412.jpg</td>\n",
       "      <td>-0.405103</td>\n",
       "      <td>-0.465332</td>\n",
       "      <td>2019-10-11 12:00:00</td>\n",
       "      <td>2019</td>\n",
       "    </tr>\n",
       "    <tr>\n",
       "      <th>42058</th>\n",
       "      <td>StateLineWeir_20191011_Farrell_413.jpg</td>\n",
       "      <td>-0.405103</td>\n",
       "      <td>-0.465332</td>\n",
       "      <td>2019-10-11 12:45:00</td>\n",
       "      <td>2019</td>\n",
       "    </tr>\n",
       "  </tbody>\n",
       "</table>\n",
       "<p>40148 rows × 5 columns</p>\n",
       "</div>"
      ],
      "text/plain": [
       "                                     Filename     Stage  Discharge  \\\n",
       "0      StateLineWeir_20120609_Farrell_001.jpg  0.077964  -0.136077   \n",
       "1      StateLineWeir_20120609_Farrell_002.jpg  0.077964  -0.136077   \n",
       "2      StateLineWeir_20120609_Farrell_003.jpg  0.045759  -0.165451   \n",
       "3      StateLineWeir_20120609_Farrell_004.jpg  0.024290  -0.183894   \n",
       "4      StateLineWeir_20120609_Farrell_005.jpg  0.024290  -0.183894   \n",
       "...                                       ...       ...        ...   \n",
       "42054  StateLineWeir_20191011_Farrell_409.jpg -0.405103  -0.465332   \n",
       "42055  StateLineWeir_20191011_Farrell_410.jpg -0.405103  -0.465332   \n",
       "42056  StateLineWeir_20191011_Farrell_411.jpg -0.405103  -0.465332   \n",
       "42057  StateLineWeir_20191011_Farrell_412.jpg -0.405103  -0.465332   \n",
       "42058  StateLineWeir_20191011_Farrell_413.jpg -0.405103  -0.465332   \n",
       "\n",
       "               SensorTime  Year  \n",
       "0     2012-06-09 13:15:00  2012  \n",
       "1     2012-06-09 13:15:00  2012  \n",
       "2     2012-06-09 13:45:00  2012  \n",
       "3     2012-06-09 14:45:00  2012  \n",
       "4     2012-06-09 15:45:00  2012  \n",
       "...                   ...   ...  \n",
       "42054 2019-10-11 09:00:00  2019  \n",
       "42055 2019-10-11 10:00:00  2019  \n",
       "42056 2019-10-11 11:00:00  2019  \n",
       "42057 2019-10-11 12:00:00  2019  \n",
       "42058 2019-10-11 12:45:00  2019  \n",
       "\n",
       "[40148 rows x 5 columns]"
      ]
     },
     "execution_count": 13,
     "metadata": {},
     "output_type": "execute_result"
    }
   ],
   "source": [
    "df[[\"Stage\", \"Discharge\"]] = scaler.transform(df[[\"Stage\", \"Discharge\"]])\n",
    "df"
   ]
  },
  {
   "cell_type": "code",
   "execution_count": 14,
   "metadata": {},
   "outputs": [],
   "source": [
    "from joblib import dump\n",
    "#dump(scaler, 'std_scaler_train_value_0_outliers.joblib')"
   ]
  },
  {
   "cell_type": "markdown",
   "metadata": {},
   "source": [
    "## Create the dataset pipeline"
   ]
  },
  {
   "cell_type": "code",
   "execution_count": 15,
   "metadata": {},
   "outputs": [],
   "source": [
    "IMG_SIZE = 224\n",
    "#IMG_SIZE = 512\n",
    "BATCH_SIZE = 32\n",
    "FRAMES = 10"
   ]
  },
  {
   "cell_type": "code",
   "execution_count": 16,
   "metadata": {},
   "outputs": [],
   "source": [
    "from dataset_transformer import make_dataset"
   ]
  },
  {
   "cell_type": "code",
   "execution_count": 17,
   "metadata": {},
   "outputs": [
    {
     "name": "stderr",
     "output_type": "stream",
     "text": [
      "2022-11-03 22:13:27.304760: I tensorflow/stream_executor/cuda/cuda_gpu_executor.cc:980] successful NUMA node read from SysFS had negative value (-1), but there must be at least one NUMA node, so returning NUMA node zero\n",
      "2022-11-03 22:13:27.304964: I tensorflow/stream_executor/cuda/cuda_gpu_executor.cc:980] successful NUMA node read from SysFS had negative value (-1), but there must be at least one NUMA node, so returning NUMA node zero\n",
      "2022-11-03 22:13:27.305105: I tensorflow/stream_executor/cuda/cuda_gpu_executor.cc:980] successful NUMA node read from SysFS had negative value (-1), but there must be at least one NUMA node, so returning NUMA node zero\n",
      "2022-11-03 22:13:27.305466: I tensorflow/stream_executor/cuda/cuda_gpu_executor.cc:980] successful NUMA node read from SysFS had negative value (-1), but there must be at least one NUMA node, so returning NUMA node zero\n",
      "2022-11-03 22:13:27.305620: I tensorflow/stream_executor/cuda/cuda_gpu_executor.cc:980] successful NUMA node read from SysFS had negative value (-1), but there must be at least one NUMA node, so returning NUMA node zero\n",
      "2022-11-03 22:13:27.305737: I tensorflow/core/common_runtime/gpu/gpu_device.cc:1616] Created device /job:localhost/replica:0/task:0/device:GPU:0 with 4008 MB memory:  -> device: 0, name: NVIDIA GeForce RTX 2060, pci bus id: 0000:08:00.0, compute capability: 7.5\n"
     ]
    },
    {
     "name": "stdout",
     "output_type": "stream",
     "text": [
      "20304\n",
      "7117\n",
      "12727\n"
     ]
    }
   ],
   "source": [
    "path = \"../../dataset/images_tmp_draw\"\n",
    "\n",
    "with tf.device(\"/gpu:0\"):\n",
    "    train_ds, train_size, val_ds, val_size, test_ds, test_size = make_dataset(path, BATCH_SIZE, IMG_SIZE, FRAMES, df, 10, True, \"cnn\")"
   ]
  },
  {
   "cell_type": "code",
   "execution_count": 18,
   "metadata": {},
   "outputs": [
    {
     "name": "stdout",
     "output_type": "stream",
     "text": [
      "(32, 224, 224, 3)\n",
      "(32, 2)\n"
     ]
    }
   ],
   "source": [
    "input_shape = 0\n",
    "output_shape = 0\n",
    "\n",
    "for image, stage_discharge in train_ds.take(1):\n",
    "    print(image.numpy().shape)\n",
    "    print(stage_discharge.numpy().shape)\n",
    "\n",
    "    input_shape = image.numpy().shape[1:]\n",
    "    output_shape = stage_discharge.numpy().shape[1:]"
   ]
  },
  {
   "cell_type": "code",
   "execution_count": 19,
   "metadata": {},
   "outputs": [
    {
     "name": "stdout",
     "output_type": "stream",
     "text": [
      "(224, 224, 3)\n",
      "(2,)\n"
     ]
    }
   ],
   "source": [
    "print(input_shape)\n",
    "print(output_shape)"
   ]
  },
  {
   "cell_type": "markdown",
   "metadata": {},
   "source": [
    "## Check images"
   ]
  },
  {
   "cell_type": "code",
   "execution_count": 20,
   "metadata": {},
   "outputs": [
    {
     "data": {
      "image/png": "[encoded data removed]",
      "text/plain": [
       "<Figure size 3000x1500 with 15 Axes>"
      ]
     },
     "metadata": {},
     "output_type": "display_data"
    }
   ],
   "source": [
    "fig, ax = plt.subplots(nrows=3, ncols=5, figsize=(30, 15))\n",
    "\n",
    "for image, stage_discharge in test_ds.take(1):\n",
    "    images = image[:15]\n",
    "    for img, ax in zip(images, ax.flatten()):\n",
    "        img = img.numpy()[0]\n",
    "        #img = img.numpy()\n",
    "        img = img / 2 + 0.5     # unnormalize\n",
    "        ax.imshow(img)\n",
    "\n",
    "plt.show()"
   ]
  },
  {
   "cell_type": "markdown",
   "metadata": {},
   "source": [
    "## Create model"
   ]
  },
  {
   "cell_type": "code",
   "execution_count": 73,
   "metadata": {},
   "outputs": [],
   "source": [
    "def create_model(input_shape, output_shape, option=\"normal\"):\n",
    "    model = Sequential()\n",
    "\n",
    "    if option == \"transfer\":\n",
    "        base_model = tf.keras.applications.ResNet50V2(include_top=False,\n",
    "                                                weights='imagenet',\n",
    "                                                input_shape=input_shape)\n",
    "        \n",
    "        for layer in base_model.layers:\n",
    "            layer.trainable = False\n",
    "\n",
    "        base_model._name = 'base_model_ResNet50'\n",
    "\n",
    "        model.add(base_model)\n",
    "        model.add(Dropout(0.3))\n",
    "        model.add(GlobalAveragePooling2D())\n",
    "\n",
    "        model.add(Dense(1024, activation='elu'))\n",
    "        model.add(Dropout(0.3))\n",
    "        model.add(Dense(512, activation='elu'))\n",
    "        model.add(Dropout(0.3))\n",
    "        model.add(Dense(256, activation='elu'))\n",
    "        model.add(Dense(128, activation='elu'))\n",
    "    elif option == \"normal\":\n",
    "        model.add(Input(shape=input_shape))\n",
    "        \n",
    "        \"\"\"model.add(Conv2D(16, kernel_size=(3, 3), activation=\"elu\", padding='same', kernel_initializer='he_uniform'))\n",
    "        model.add(MaxPooling2D(pool_size=(2, 2), strides=(2, 2)))\n",
    "        model.add(BatchNormalization())\n",
    "\n",
    "        model.add(Conv2D(32, kernel_size=(3, 3), activation=\"elu\", padding='same', kernel_initializer='he_uniform'))\n",
    "        model.add(MaxPooling2D(pool_size=(2, 2), strides=(2, 2)))\n",
    "        model.add(BatchNormalization())\n",
    "\n",
    "        model.add(Conv2D(32, kernel_size=(3, 3), activation=\"elu\", padding='same', kernel_initializer='he_uniform'))\n",
    "        model.add(Conv2D(32, kernel_size=(3, 3), activation=\"elu\", padding='same', kernel_initializer='he_uniform'))\n",
    "        model.add(MaxPooling2D(pool_size=(2, 2), strides=(2, 2)))\n",
    "        model.add(BatchNormalization())\n",
    "\n",
    "        model.add(Conv2D(64, kernel_size=(4, 4), activation=\"elu\", padding='same', kernel_initializer='he_uniform'))\n",
    "        model.add(Conv2D(64, kernel_size=(4, 4), activation=\"elu\", padding='same', kernel_initializer='he_uniform'))\n",
    "        model.add(MaxPooling2D(pool_size=(2, 2), strides=(2, 2)))\n",
    "        model.add(BatchNormalization())\n",
    "\n",
    "        model.add(Conv2D(64, kernel_size=(4, 4), activation=\"elu\", padding='same', kernel_initializer='he_uniform'))\n",
    "        model.add(Conv2D(64, kernel_size=(4, 4), activation=\"elu\", padding='same', kernel_initializer='he_uniform'))\n",
    "        model.add(MaxPooling2D(pool_size=(2, 2), strides=(2, 2)))\n",
    "        model.add(BatchNormalization())\n",
    "\n",
    "        model.add(Conv2D(64, kernel_size=(3, 3), activation=\"elu\", padding='same', kernel_initializer='he_uniform'))\n",
    "        model.add(Conv2D(64, kernel_size=(3, 3), activation=\"elu\", padding='same', kernel_initializer='he_uniform'))\n",
    "        model.add(MaxPooling2D(pool_size=(2, 2), strides=(2, 2)))\n",
    "        model.add(BatchNormalization())\n",
    "\n",
    "        model.add(GlobalAveragePooling2D())\n",
    "\n",
    "        model.add(Dense(512, activation='elu'))\n",
    "        model.add(Dropout(0.3))\n",
    "        model.add(Dense(512, activation='elu'))\n",
    "        model.add(Dropout(0.3))\n",
    "        model.add(Dense(256, activation='elu'))\n",
    "        model.add(Dense(64, activation='elu'))\"\"\"\n",
    "\n",
    "        model.add(Conv2D(32, kernel_size=(4, 4), strides=(2, 2), padding='same', activation=\"elu\"))\n",
    "        model.add(MaxPooling2D(pool_size=(2, 2)))\n",
    "\n",
    "        model.add(Conv2D(32, kernel_size=(4, 4), strides=(2, 2), activation=\"elu\", padding='same'))\n",
    "        model.add(MaxPooling2D(pool_size=(2, 2)))\n",
    "\n",
    "        model.add(Conv2D(64, kernel_size=(3, 3), activation=\"elu\", padding='same'))\n",
    "        #model.add(AveragePooling2D(pool_size=(2, 2)))\n",
    "        \n",
    "        model.add(Conv2D(64, kernel_size=(3, 3), activation='elu'))\n",
    "\n",
    "        model.add(Conv2D(64, kernel_size=(2, 2), activation='elu'))\n",
    "        model.add(MaxPooling2D(pool_size=(2, 2)))\n",
    "\n",
    "        model.add(Conv2D(64, kernel_size=(3, 3), activation='elu'))\n",
    "\n",
    "        model.add(Conv2D(64, kernel_size=(2, 2), activation='elu'))\n",
    "        model.add(MaxPooling2D(pool_size=(2, 2)))\n",
    "\n",
    "        model.add(Flatten())\n",
    "        model.add(Dense(256, activation='tanh'))\n",
    "        model.add(Dropout(0.3))\n",
    "        model.add(Dense(128, activation='tanh'))\n",
    "        model.add(Dense(64, activation='tanh'))\n",
    "        model.add(Dense(32, activation='tanh'))\n",
    "    elif option == \"cnn/lstm\":\n",
    "        base_model = tf.keras.applications.ResNet50V2(include_top=False,\n",
    "                                                      weights='imagenet',\n",
    "                                                      input_shape=(224, 224, 3))\n",
    "        base_model.trainable = False\n",
    "        base_model._name = 'base_model_ResNet50'\n",
    "        model.add(Input(shape=input_shape))\n",
    "        model.add(TimeDistributed(base_model))\n",
    "        model.add(TimeDistributed(Dropout(0.3)))\n",
    "        model.add(TimeDistributed(GlobalAveragePooling2D()))\n",
    "\n",
    "        \"\"\"model.add(Input(shape=input_shape))\n",
    "\n",
    "        model.add(TimeDistributed(Conv2D(16, kernel_size=(4, 4), strides=(2, 2), padding='same', activation='elu')))\n",
    "        model.add(TimeDistributed(MaxPooling2D(pool_size=(3, 3))))\n",
    "\n",
    "        model.add(TimeDistributed(Conv2D(32, kernel_size=(4, 4), strides=(2, 2), activation='elu', padding='same')))\n",
    "        model.add(TimeDistributed(MaxPooling2D(pool_size=(2, 2))))\n",
    "\n",
    "        model.add(TimeDistributed(Conv2D(32, kernel_size=(3, 3), activation='elu', padding='same')))\n",
    "        model.add(TimeDistributed(MaxPooling2D(pool_size=(2, 2))))\n",
    "\n",
    "        model.add(TimeDistributed(Conv2D(32, kernel_size=(3, 3), activation='elu', padding='same')))\n",
    "        model.add(TimeDistributed(MaxPooling2D(pool_size=(2, 2))))\n",
    "        \n",
    "\n",
    "        model.add(TimeDistributed(Flatten()))\"\"\"\n",
    "\n",
    "        model.add(LSTM(10, return_sequences=True))\n",
    "        model.add(LSTM(15))\n",
    "\n",
    "        model.add(Dense(512, activation='elu'))\n",
    "        model.add(Dense(256, activation='elu'))\n",
    "        model.add(Dense(128, activation='elu'))\n",
    "        model.add(Dense(128, activation='elu'))\n",
    "        \n",
    "    model.add(Dense(output_shape, activation='linear')) # linear regression output layer\n",
    "\n",
    "    return model\n"
   ]
  },
  {
   "cell_type": "code",
   "execution_count": 74,
   "metadata": {},
   "outputs": [],
   "source": [
    "model = create_model(input_shape, output_shape[0], \"transfer\")"
   ]
  },
  {
   "cell_type": "code",
   "execution_count": 75,
   "metadata": {},
   "outputs": [
    {
     "name": "stdout",
     "output_type": "stream",
     "text": [
      "Model: \"sequential_3\"\n",
      "_________________________________________________________________\n",
      " Layer (type)                Output Shape              Param #   \n",
      "=================================================================\n",
      " base_model_ResNet50 (Functi  (None, 7, 7, 2048)       23564800  \n",
      " onal)                                                           \n",
      "                                                                 \n",
      " dropout_6 (Dropout)         (None, 7, 7, 2048)        0         \n",
      "                                                                 \n",
      " global_average_pooling2d_2   (None, 2048)             0         \n",
      " (GlobalAveragePooling2D)                                        \n",
      "                                                                 \n",
      " dense_10 (Dense)            (None, 1024)              2098176   \n",
      "                                                                 \n",
      " dropout_7 (Dropout)         (None, 1024)              0         \n",
      "                                                                 \n",
      " dense_11 (Dense)            (None, 512)               524800    \n",
      "                                                                 \n",
      " dropout_8 (Dropout)         (None, 512)               0         \n",
      "                                                                 \n",
      " dense_12 (Dense)            (None, 256)               131328    \n",
      "                                                                 \n",
      " dense_13 (Dense)            (None, 128)               32896     \n",
      "                                                                 \n",
      " dense_14 (Dense)            (None, 2)                 258       \n",
      "                                                                 \n",
      "=================================================================\n",
      "Total params: 26,352,258\n",
      "Trainable params: 2,787,458\n",
      "Non-trainable params: 23,564,800\n",
      "_________________________________________________________________\n"
     ]
    }
   ],
   "source": [
    "model.summary()"
   ]
  },
  {
   "cell_type": "code",
   "execution_count": 76,
   "metadata": {},
   "outputs": [],
   "source": [
    "def compile_model(loss_func, optimizer, metrics=[\"accuracy\"]):\n",
    "    model.compile(loss=loss_func, optimizer=optimizer, metrics=metrics)"
   ]
  },
  {
   "cell_type": "code",
   "execution_count": 77,
   "metadata": {},
   "outputs": [],
   "source": [
    "sgd = SGD(learning_rate=0.01, decay=1e-3, momentum=0.9, nesterov=True)\n",
    "#adam = Adam(learning_rate=1e-3, decay=1e-3 / 200)\n",
    "adam = Adam(learning_rate=1e-3, decay=1e-3 / 200)\n",
    "\n",
    "compile_model('mse', adam,  [\n",
    "              'mse', tf.keras.metrics.RootMeanSquaredError(name='rmse'), 'mae', 'mape'])\n"
   ]
  },
  {
   "cell_type": "code",
   "execution_count": 78,
   "metadata": {},
   "outputs": [],
   "source": [
    "def fit_model(training_values, validation_values=None, epochs=10, steps=32, val_steps=32, callbacks=[]):\n",
    "    return model.fit(training_values, validation_data=validation_values, epochs=epochs, steps_per_epoch=steps, validation_steps=val_steps, callbacks=callbacks)"
   ]
  },
  {
   "cell_type": "code",
   "execution_count": 79,
   "metadata": {},
   "outputs": [],
   "source": [
    "import datetime\n",
    "\n",
    "date_actual = datetime.datetime.now().strftime(\"%Y%m%d-%H%M%S\")\n",
    "log_dir = \"logs/fit/\" + date_actual\n",
    "tensorboard_callback = tf.keras.callbacks.TensorBoard(log_dir=log_dir, histogram_freq=1)\n",
    "\n",
    "es_callback = tf.keras.callbacks.EarlyStopping(monitor='val_loss', mode='min', verbose=1, patience=8)\n",
    "\n",
    "checkpoint_callback = tf.keras.callbacks.ModelCheckpoint(filepath=f\"model_weights/{date_actual}_cnn_best_weights.hdf5\",\n",
    "                               monitor='val_loss',\n",
    "                               verbose=1,\n",
    "                               save_best_only=True)\n"
   ]
  },
  {
   "cell_type": "code",
   "execution_count": 80,
   "metadata": {},
   "outputs": [
    {
     "name": "stdout",
     "output_type": "stream",
     "text": [
      "Epoch 1/60\n",
      "634/635 [============================>.] - ETA: 0s - loss: 0.2345 - mse: 0.2345 - rmse: 0.4842 - mae: 0.2784 - mape: 140.3885\n",
      "Epoch 1: val_loss improved from inf to 0.08667, saving model to model_weights/20221103-230002_cnn_best_weights.hdf5\n",
      "635/635 [==============================] - 80s 122ms/step - loss: 0.2343 - mse: 0.2343 - rmse: 0.4841 - mae: 0.2784 - mape: 140.3092 - val_loss: 0.0867 - val_mse: 0.0867 - val_rmse: 0.2944 - val_mae: 0.2105 - val_mape: 65.5157\n",
      "Epoch 2/60\n",
      "634/635 [============================>.] - ETA: 0s - loss: 0.0419 - mse: 0.0419 - rmse: 0.2046 - mae: 0.1448 - mape: 78.3303\n",
      "Epoch 2: val_loss improved from 0.08667 to 0.07906, saving model to model_weights/20221103-230002_cnn_best_weights.hdf5\n",
      "635/635 [==============================] - 76s 120ms/step - loss: 0.0419 - mse: 0.0419 - rmse: 0.2046 - mae: 0.1448 - mape: 78.2950 - val_loss: 0.0791 - val_mse: 0.0791 - val_rmse: 0.2812 - val_mae: 0.1927 - val_mape: 64.4429\n",
      "Epoch 3/60\n",
      "634/635 [============================>.] - ETA: 0s - loss: 0.0305 - mse: 0.0305 - rmse: 0.1748 - mae: 0.1226 - mape: 70.2164\n",
      "Epoch 3: val_loss improved from 0.07906 to 0.07415, saving model to model_weights/20221103-230002_cnn_best_weights.hdf5\n",
      "635/635 [==============================] - 76s 119ms/step - loss: 0.0305 - mse: 0.0305 - rmse: 0.1747 - mae: 0.1225 - mape: 70.1723 - val_loss: 0.0742 - val_mse: 0.0742 - val_rmse: 0.2723 - val_mae: 0.1817 - val_mape: 60.1087\n",
      "Epoch 4/60\n",
      "634/635 [============================>.] - ETA: 0s - loss: 0.0270 - mse: 0.0270 - rmse: 0.1642 - mae: 0.1144 - mape: 63.5036\n",
      "Epoch 4: val_loss improved from 0.07415 to 0.06344, saving model to model_weights/20221103-230002_cnn_best_weights.hdf5\n",
      "635/635 [==============================] - 76s 119ms/step - loss: 0.0269 - mse: 0.0269 - rmse: 0.1641 - mae: 0.1144 - mape: 63.4689 - val_loss: 0.0634 - val_mse: 0.0634 - val_rmse: 0.2519 - val_mae: 0.1574 - val_mape: 49.7525\n",
      "Epoch 5/60\n",
      "634/635 [============================>.] - ETA: 0s - loss: 0.0224 - mse: 0.0224 - rmse: 0.1496 - mae: 0.1036 - mape: 57.7936\n",
      "Epoch 5: val_loss did not improve from 0.06344\n",
      "635/635 [==============================] - 75s 118ms/step - loss: 0.0224 - mse: 0.0224 - rmse: 0.1496 - mae: 0.1036 - mape: 57.7635 - val_loss: 0.0652 - val_mse: 0.0652 - val_rmse: 0.2553 - val_mae: 0.1577 - val_mape: 49.2678\n",
      "Epoch 6/60\n",
      "634/635 [============================>.] - ETA: 0s - loss: 0.0219 - mse: 0.0219 - rmse: 0.1479 - mae: 0.1024 - mape: 59.2665\n",
      "Epoch 6: val_loss did not improve from 0.06344\n",
      "635/635 [==============================] - 75s 118ms/step - loss: 0.0219 - mse: 0.0219 - rmse: 0.1479 - mae: 0.1024 - mape: 59.2348 - val_loss: 0.0666 - val_mse: 0.0666 - val_rmse: 0.2582 - val_mae: 0.1632 - val_mape: 50.4255\n",
      "Epoch 7/60\n",
      "634/635 [============================>.] - ETA: 0s - loss: 0.0192 - mse: 0.0192 - rmse: 0.1387 - mae: 0.0957 - mape: 55.0968\n",
      "Epoch 7: val_loss did not improve from 0.06344\n",
      "635/635 [==============================] - 75s 119ms/step - loss: 0.0192 - mse: 0.0192 - rmse: 0.1387 - mae: 0.0957 - mape: 55.0644 - val_loss: 0.0690 - val_mse: 0.0690 - val_rmse: 0.2627 - val_mae: 0.1642 - val_mape: 59.2706\n",
      "Epoch 8/60\n",
      "634/635 [============================>.] - ETA: 0s - loss: 0.0247 - mse: 0.0247 - rmse: 0.1572 - mae: 0.1047 - mape: 58.8439\n",
      "Epoch 8: val_loss did not improve from 0.06344\n",
      "635/635 [==============================] - 75s 119ms/step - loss: 0.0247 - mse: 0.0247 - rmse: 0.1571 - mae: 0.1047 - mape: 58.8113 - val_loss: 0.0781 - val_mse: 0.0781 - val_rmse: 0.2794 - val_mae: 0.1724 - val_mape: 55.7035\n",
      "Epoch 9/60\n",
      "634/635 [============================>.] - ETA: 0s - loss: 0.0246 - mse: 0.0246 - rmse: 0.1568 - mae: 0.1041 - mape: 59.2239\n",
      "Epoch 9: val_loss did not improve from 0.06344\n",
      "635/635 [==============================] - 75s 118ms/step - loss: 0.0246 - mse: 0.0246 - rmse: 0.1568 - mae: 0.1041 - mape: 59.1929 - val_loss: 0.0802 - val_mse: 0.0802 - val_rmse: 0.2831 - val_mae: 0.1682 - val_mape: 48.9895\n",
      "Epoch 10/60\n",
      "634/635 [============================>.] - ETA: 0s - loss: 0.0170 - mse: 0.0170 - rmse: 0.1302 - mae: 0.0882 - mape: 51.5287\n",
      "Epoch 10: val_loss improved from 0.06344 to 0.06236, saving model to model_weights/20221103-230002_cnn_best_weights.hdf5\n",
      "635/635 [==============================] - 76s 119ms/step - loss: 0.0170 - mse: 0.0170 - rmse: 0.1302 - mae: 0.0881 - mape: 51.4980 - val_loss: 0.0624 - val_mse: 0.0624 - val_rmse: 0.2497 - val_mae: 0.1509 - val_mape: 58.8778\n",
      "Epoch 11/60\n",
      "634/635 [============================>.] - ETA: 0s - loss: 0.0145 - mse: 0.0145 - rmse: 0.1205 - mae: 0.0821 - mape: 50.1194\n",
      "Epoch 11: val_loss improved from 0.06236 to 0.05849, saving model to model_weights/20221103-230002_cnn_best_weights.hdf5\n",
      "635/635 [==============================] - 76s 119ms/step - loss: 0.0145 - mse: 0.0145 - rmse: 0.1205 - mae: 0.0821 - mape: 50.0889 - val_loss: 0.0585 - val_mse: 0.0585 - val_rmse: 0.2419 - val_mae: 0.1437 - val_mape: 44.7324\n",
      "Epoch 12/60\n",
      "634/635 [============================>.] - ETA: 0s - loss: 0.0147 - mse: 0.0147 - rmse: 0.1211 - mae: 0.0813 - mape: 47.9710\n",
      "Epoch 12: val_loss did not improve from 0.05849\n",
      "635/635 [==============================] - 75s 119ms/step - loss: 0.0147 - mse: 0.0147 - rmse: 0.1211 - mae: 0.0813 - mape: 47.9434 - val_loss: 0.1153 - val_mse: 0.1153 - val_rmse: 0.3395 - val_mae: 0.2035 - val_mape: 49.4566\n",
      "Epoch 13/60\n",
      "634/635 [============================>.] - ETA: 0s - loss: 0.0145 - mse: 0.0145 - rmse: 0.1203 - mae: 0.0804 - mape: 48.8194\n",
      "Epoch 13: val_loss did not improve from 0.05849\n",
      "635/635 [==============================] - 72s 113ms/step - loss: 0.0145 - mse: 0.0145 - rmse: 0.1202 - mae: 0.0804 - mape: 48.7864 - val_loss: 0.0618 - val_mse: 0.0618 - val_rmse: 0.2487 - val_mae: 0.1561 - val_mape: 63.2799\n",
      "Epoch 14/60\n",
      "634/635 [============================>.] - ETA: 0s - loss: 0.0129 - mse: 0.0129 - rmse: 0.1137 - mae: 0.0762 - mape: 43.7422\n",
      "Epoch 14: val_loss did not improve from 0.05849\n",
      "635/635 [==============================] - 72s 113ms/step - loss: 0.0129 - mse: 0.0129 - rmse: 0.1137 - mae: 0.0762 - mape: 43.7214 - val_loss: 0.0601 - val_mse: 0.0601 - val_rmse: 0.2451 - val_mae: 0.1567 - val_mape: 58.1463\n",
      "Epoch 15/60\n",
      "634/635 [============================>.] - ETA: 0s - loss: 0.0118 - mse: 0.0118 - rmse: 0.1088 - mae: 0.0739 - mape: 43.2454\n",
      "Epoch 15: val_loss did not improve from 0.05849\n",
      "635/635 [==============================] - 72s 113ms/step - loss: 0.0118 - mse: 0.0118 - rmse: 0.1088 - mae: 0.0739 - mape: 43.2178 - val_loss: 0.0681 - val_mse: 0.0681 - val_rmse: 0.2610 - val_mae: 0.1638 - val_mape: 59.8237\n",
      "Epoch 16/60\n",
      "634/635 [============================>.] - ETA: 0s - loss: 0.0209 - mse: 0.0209 - rmse: 0.1445 - mae: 0.0915 - mape: 52.1147\n",
      "Epoch 16: val_loss did not improve from 0.05849\n",
      "635/635 [==============================] - 72s 113ms/step - loss: 0.0209 - mse: 0.0209 - rmse: 0.1445 - mae: 0.0915 - mape: 52.0831 - val_loss: 0.0629 - val_mse: 0.0629 - val_rmse: 0.2509 - val_mae: 0.1527 - val_mape: 51.7619\n",
      "Epoch 17/60\n",
      "634/635 [============================>.] - ETA: 0s - loss: 0.0119 - mse: 0.0119 - rmse: 0.1091 - mae: 0.0733 - mape: 43.4485\n",
      "Epoch 17: val_loss did not improve from 0.05849\n",
      "635/635 [==============================] - 71s 112ms/step - loss: 0.0119 - mse: 0.0119 - rmse: 0.1090 - mae: 0.0733 - mape: 43.4247 - val_loss: 0.0628 - val_mse: 0.0628 - val_rmse: 0.2505 - val_mae: 0.1556 - val_mape: 52.8115\n",
      "Epoch 18/60\n",
      "634/635 [============================>.] - ETA: 0s - loss: 0.0134 - mse: 0.0134 - rmse: 0.1158 - mae: 0.0766 - mape: 43.6014\n",
      "Epoch 18: val_loss did not improve from 0.05849\n",
      "635/635 [==============================] - 72s 113ms/step - loss: 0.0134 - mse: 0.0134 - rmse: 0.1160 - mae: 0.0767 - mape: 43.5898 - val_loss: 0.0890 - val_mse: 0.0890 - val_rmse: 0.2984 - val_mae: 0.1766 - val_mape: 57.7655\n",
      "Epoch 19/60\n",
      "634/635 [============================>.] - ETA: 0s - loss: 0.0213 - mse: 0.0213 - rmse: 0.1460 - mae: 0.0934 - mape: 55.5282\n",
      "Epoch 19: val_loss did not improve from 0.05849\n",
      "635/635 [==============================] - 72s 113ms/step - loss: 0.0213 - mse: 0.0213 - rmse: 0.1460 - mae: 0.0934 - mape: 55.4964 - val_loss: 0.0698 - val_mse: 0.0698 - val_rmse: 0.2643 - val_mae: 0.1614 - val_mape: 55.8318\n",
      "Epoch 19: early stopping\n"
     ]
    }
   ],
   "source": [
    "# batch_size = 0 because we already have batch size in tf dataset\n",
    "with tf.device(\"/gpu:0\"):\n",
    "    model_h = fit_model(train_ds, val_ds, epochs=60, steps=np.ceil(train_size / BATCH_SIZE), val_steps=np.ceil(val_size / BATCH_SIZE), callbacks=[tensorboard_callback, checkpoint_callback, es_callback])"
   ]
  },
  {
   "cell_type": "markdown",
   "metadata": {},
   "source": [
    "## Evaluate model"
   ]
  },
  {
   "cell_type": "code",
   "execution_count": 81,
   "metadata": {},
   "outputs": [
    {
     "name": "stdout",
     "output_type": "stream",
     "text": [
      "20221103-230002\n"
     ]
    }
   ],
   "source": [
    "print(date_actual)"
   ]
  },
  {
   "cell_type": "code",
   "execution_count": 82,
   "metadata": {},
   "outputs": [],
   "source": [
    "best_model = models.load_model(f'model_weights/{date_actual}_cnn_best_weights.hdf5')\n",
    "#best_model = models.load_model(f'best_models_weights/cnn_best_weights_v9.hdf5')\n"
   ]
  },
  {
   "cell_type": "code",
   "execution_count": 83,
   "metadata": {},
   "outputs": [],
   "source": [
    "def evaluate_model(model, test_values, steps):\n",
    "  score = model.evaluate(test_values, steps=steps)\n",
    "  return score"
   ]
  },
  {
   "cell_type": "code",
   "execution_count": 84,
   "metadata": {},
   "outputs": [
    {
     "name": "stdout",
     "output_type": "stream",
     "text": [
      "398/398 [==============================] - 32s 78ms/step - loss: 0.0540 - mse: 0.0540 - rmse: 0.2324 - mae: 0.1440 - mape: 68.1599\n"
     ]
    }
   ],
   "source": [
    "test_loss, test_mse, test_rmse, test_mae, test_mape = evaluate_model(best_model, test_ds, steps=np.ceil(test_size / BATCH_SIZE))"
   ]
  },
  {
   "cell_type": "code",
   "execution_count": 85,
   "metadata": {},
   "outputs": [],
   "source": [
    "#predictions = best_model.predict(test_ds, steps=np.ceil(test_size / BATCH_SIZE))"
   ]
  },
  {
   "cell_type": "code",
   "execution_count": 86,
   "metadata": {},
   "outputs": [
    {
     "name": "stdout",
     "output_type": "stream",
     "text": [
      "1/1 [==============================] - 0s 495ms/step\n",
      "79.2600525051517\n",
      "218.17216149864743\n",
      "pred stage: 2.4097249507904053, actual stage: 2.31\n",
      "pred discharge: 284.9043884277344, actual discharge: 210.0000000000001\n",
      "pred stage: 2.463397979736328, actual stage: 2.41\n",
      "pred discharge: 332.1559753417969, actual discharge: 210.0000000000001\n",
      "pred stage: 3.3087246417999268, actual stage: 2.67\n",
      "pred discharge: 1338.3272705078125, actual discharge: 210.0000000000001\n",
      "pred stage: 2.3510382175445557, actual stage: 2.43\n",
      "pred discharge: 257.7505187988281, actual discharge: 210.0000000000001\n",
      "pred stage: 2.4264814853668213, actual stage: 2.42\n",
      "pred discharge: 329.0776672363281, actual discharge: 210.0000000000001\n",
      "pred stage: 2.7900302410125732, actual stage: 2.71\n",
      "pred discharge: 804.0298461914062, actual discharge: 210.0000000000001\n",
      "pred stage: 2.40978741645813, actual stage: 2.71\n",
      "pred discharge: 290.5561828613281, actual discharge: 210.0000000000001\n",
      "pred stage: 2.2910003662109375, actual stage: 2.76\n",
      "pred discharge: 218.1156768798828, actual discharge: 210.0000000000001\n",
      "pred stage: 2.5312607288360596, actual stage: 2.89\n",
      "pred discharge: 354.0725402832031, actual discharge: 210.0000000000001\n",
      "pred stage: 2.907449245452881, actual stage: 2.82\n",
      "pred discharge: 1025.2611083984375, actual discharge: 210.0000000000001\n"
     ]
    }
   ],
   "source": [
    "for image, stage_discharge in test_ds.take(1):\n",
    "\tpredictions = best_model.predict(x=image)\n",
    "\n",
    "\tstage_discharge_test_values = stage_discharge.numpy()\n",
    "\tpredictions_values = predictions\n",
    "\t\n",
    "\tdiff = predictions_values.flatten() - stage_discharge_test_values.flatten()\n",
    "\tpercentDiff = (diff / stage_discharge_test_values.flatten()) * 100\n",
    "\tabsPercentDiff = np.abs(percentDiff)\n",
    "\t# compute the mean and standard deviation of the absolute percentage\n",
    "\t# difference\n",
    "\tmean = np.mean(absPercentDiff)\n",
    "\tstd = np.std(absPercentDiff)\n",
    "\t# finally, show some statistics on our model\n",
    "\tprint(mean)\n",
    "\tprint(std)\n",
    "\n",
    "\tstage_discharge_test_values = stage_discharge[:10]\n",
    "\tstage_discharge_test_values = stage_discharge_test_values.numpy().reshape(10, 2)\n",
    "\tpredictions_values = predictions[:10]\n",
    "\n",
    "\tfor i in range(len(stage_discharge_test_values)):\n",
    "\t\tprint(f\"pred stage: {scaler.inverse_transform(predictions_values)[i][0]}, actual stage: {scaler.inverse_transform(stage_discharge_test_values)[i][0]}\")\n",
    "\t\tprint(f\"pred discharge: {scaler.inverse_transform(predictions_values)[i][1]}, actual discharge: {scaler.inverse_transform(stage_discharge_test_values)[i][1]}\")"
   ]
  },
  {
   "cell_type": "markdown",
   "metadata": {},
   "source": [
    "### Residual analysis"
   ]
  },
  {
   "cell_type": "code",
   "execution_count": 87,
   "metadata": {},
   "outputs": [
    {
     "name": "stdout",
     "output_type": "stream",
     "text": [
      "1/1 [==============================] - 0s 22ms/step\n",
      "1/1 [==============================] - 0s 23ms/step\n",
      "1/1 [==============================] - 0s 22ms/step\n",
      "1/1 [==============================] - 0s 22ms/step\n",
      "1/1 [==============================] - 0s 21ms/step\n",
      "1/1 [==============================] - 0s 21ms/step\n",
      "1/1 [==============================] - 0s 22ms/step\n",
      "1/1 [==============================] - 0s 22ms/step\n",
      "1/1 [==============================] - 0s 22ms/step\n",
      "1/1 [==============================] - 0s 22ms/step\n",
      "1/1 [==============================] - 0s 22ms/step\n",
      "1/1 [==============================] - 0s 22ms/step\n",
      "1/1 [==============================] - 0s 22ms/step\n",
      "1/1 [==============================] - 0s 21ms/step\n",
      "1/1 [==============================] - 0s 21ms/step\n",
      "1/1 [==============================] - 0s 21ms/step\n",
      "1/1 [==============================] - 0s 21ms/step\n",
      "1/1 [==============================] - 0s 22ms/step\n",
      "1/1 [==============================] - 0s 22ms/step\n",
      "1/1 [==============================] - 0s 22ms/step\n",
      "1/1 [==============================] - 0s 21ms/step\n",
      "1/1 [==============================] - 0s 25ms/step\n",
      "1/1 [==============================] - 0s 22ms/step\n",
      "1/1 [==============================] - 0s 21ms/step\n",
      "1/1 [==============================] - 0s 22ms/step\n",
      "1/1 [==============================] - 0s 21ms/step\n",
      "1/1 [==============================] - 0s 21ms/step\n",
      "1/1 [==============================] - 0s 21ms/step\n",
      "1/1 [==============================] - 0s 22ms/step\n",
      "1/1 [==============================] - 0s 21ms/step\n",
      "1/1 [==============================] - 0s 22ms/step\n",
      "1/1 [==============================] - 0s 21ms/step\n",
      "1/1 [==============================] - 0s 21ms/step\n",
      "1/1 [==============================] - 0s 22ms/step\n",
      "1/1 [==============================] - 0s 21ms/step\n",
      "1/1 [==============================] - 0s 25ms/step\n",
      "1/1 [==============================] - 0s 21ms/step\n",
      "1/1 [==============================] - 0s 25ms/step\n",
      "1/1 [==============================] - 0s 21ms/step\n",
      "1/1 [==============================] - 0s 21ms/step\n",
      "1/1 [==============================] - 0s 22ms/step\n",
      "1/1 [==============================] - 0s 21ms/step\n",
      "1/1 [==============================] - 0s 22ms/step\n",
      "1/1 [==============================] - 0s 22ms/step\n",
      "1/1 [==============================] - 0s 21ms/step\n",
      "1/1 [==============================] - 0s 21ms/step\n",
      "1/1 [==============================] - 0s 21ms/step\n",
      "1/1 [==============================] - 0s 23ms/step\n",
      "1/1 [==============================] - 0s 22ms/step\n",
      "1/1 [==============================] - 0s 21ms/step\n",
      "1/1 [==============================] - 0s 21ms/step\n",
      "1/1 [==============================] - 0s 21ms/step\n",
      "1/1 [==============================] - 0s 21ms/step\n",
      "1/1 [==============================] - 0s 25ms/step\n",
      "1/1 [==============================] - 0s 22ms/step\n",
      "1/1 [==============================] - 0s 21ms/step\n",
      "1/1 [==============================] - 0s 22ms/step\n",
      "1/1 [==============================] - 0s 22ms/step\n",
      "1/1 [==============================] - 0s 22ms/step\n",
      "1/1 [==============================] - 0s 21ms/step\n",
      "1/1 [==============================] - 0s 21ms/step\n",
      "1/1 [==============================] - 0s 21ms/step\n",
      "1/1 [==============================] - 0s 21ms/step\n",
      "1/1 [==============================] - 0s 21ms/step\n",
      "1/1 [==============================] - 0s 21ms/step\n",
      "1/1 [==============================] - 0s 23ms/step\n",
      "1/1 [==============================] - 0s 20ms/step\n",
      "1/1 [==============================] - 0s 21ms/step\n",
      "1/1 [==============================] - 0s 21ms/step\n",
      "1/1 [==============================] - 0s 22ms/step\n",
      "1/1 [==============================] - 0s 22ms/step\n",
      "1/1 [==============================] - 0s 21ms/step\n",
      "1/1 [==============================] - 0s 20ms/step\n",
      "1/1 [==============================] - 0s 21ms/step\n",
      "1/1 [==============================] - 0s 21ms/step\n",
      "1/1 [==============================] - 0s 21ms/step\n",
      "1/1 [==============================] - 0s 21ms/step\n",
      "1/1 [==============================] - 0s 21ms/step\n",
      "1/1 [==============================] - 0s 22ms/step\n",
      "1/1 [==============================] - 0s 21ms/step\n",
      "1/1 [==============================] - 0s 21ms/step\n",
      "1/1 [==============================] - 0s 21ms/step\n",
      "1/1 [==============================] - 0s 21ms/step\n",
      "1/1 [==============================] - 0s 21ms/step\n",
      "1/1 [==============================] - 0s 21ms/step\n",
      "1/1 [==============================] - 0s 21ms/step\n",
      "1/1 [==============================] - 0s 21ms/step\n",
      "1/1 [==============================] - 0s 21ms/step\n",
      "1/1 [==============================] - 0s 21ms/step\n",
      "1/1 [==============================] - 0s 21ms/step\n",
      "1/1 [==============================] - 0s 21ms/step\n",
      "1/1 [==============================] - 0s 21ms/step\n",
      "1/1 [==============================] - 0s 21ms/step\n",
      "1/1 [==============================] - 0s 21ms/step\n",
      "1/1 [==============================] - 0s 21ms/step\n",
      "1/1 [==============================] - 0s 21ms/step\n",
      "1/1 [==============================] - 0s 21ms/step\n",
      "1/1 [==============================] - 0s 22ms/step\n",
      "1/1 [==============================] - 0s 21ms/step\n",
      "1/1 [==============================] - 0s 21ms/step\n"
     ]
    }
   ],
   "source": [
    "y_predictions = np.empty(shape=(1, 2)).astype('float32')\n",
    "y_real = np.empty(shape=(1, 2)).astype('float32')\n",
    "\n",
    "for image, stage_discharge in test_ds.take(100):\n",
    "    y_predictions = np.concatenate((y_predictions, best_model.predict(x=image)))\n",
    "    y_real = np.concatenate((y_real, stage_discharge.numpy()))"
   ]
  },
  {
   "cell_type": "code",
   "execution_count": 88,
   "metadata": {},
   "outputs": [
    {
     "name": "stdout",
     "output_type": "stream",
     "text": [
      "0.21593582108796294\n"
     ]
    },
    {
     "data": {
      "image/png": "[encoded data removed]",
      "text/plain": [
       "<Figure size 640x480 with 1 Axes>"
      ]
     },
     "metadata": {},
     "output_type": "display_data"
    }
   ],
   "source": [
    "residuals = y_real - y_predictions\n",
    "residuals_std = residuals/residuals.std()\n",
    "\n",
    "y_real_stage = np.array([i[0] for i in y_real])\n",
    "residual_stage = np.array([i[0] for i in residuals])\n",
    "\n",
    "y_real_discharge = np.array([i[1] for i in y_real])\n",
    "residual_discharge = np.array([i[1] for i in residuals])\n",
    "\n",
    "print(residual_stage.std())\n",
    "\n",
    "plt.scatter(y_real_stage, residual_stage / residual_stage.std(), label=\"stage residuals\")\n",
    "plt.scatter(y_real_discharge, residual_discharge / residual_discharge.std(), label=\"discharge residuals\")\n",
    "plt.axhline(y=0.0, color='r', linestyle='-')\n",
    "plt.xlabel(\"Fitted values\")\n",
    "plt.ylabel(\"Standarized residuals\")\n",
    "\n",
    "plt.legend()\n",
    "plt.show()"
   ]
  },
  {
   "cell_type": "code",
   "execution_count": 89,
   "metadata": {},
   "outputs": [
    {
     "data": {
      "image/png": "[encoded data removed]",
      "text/plain": [
       "<Figure size 640x480 with 1 Axes>"
      ]
     },
     "metadata": {},
     "output_type": "display_data"
    }
   ],
   "source": [
    "import statsmodels.api as sm\n",
    "from statsmodels.stats.diagnostic import normal_ad\n",
    "\n",
    "figure = sm.qqplot(residual_stage / residual_stage.std(), line ='45', label='stage')\n",
    "plt.show()"
   ]
  },
  {
   "cell_type": "code",
   "execution_count": 90,
   "metadata": {},
   "outputs": [
    {
     "data": {
      "image/png": "[encoded data removed]",
      "text/plain": [
       "<Figure size 640x480 with 1 Axes>"
      ]
     },
     "metadata": {},
     "output_type": "display_data"
    }
   ],
   "source": [
    "figure = sm.qqplot(residual_discharge / residual_discharge.std(), line='45', label='discharge')\n",
    "plt.show()"
   ]
  },
  {
   "cell_type": "code",
   "execution_count": 97,
   "metadata": {},
   "outputs": [
    {
     "data": {
      "image/png": "[encoded data removed]",
      "text/plain": [
       "<Figure size 640x480 with 1 Axes>"
      ]
     },
     "metadata": {},
     "output_type": "display_data"
    }
   ],
   "source": [
    "plt.hist(residual_stage, density=True, bins = 50)\n",
    "plt.ylabel('Count')\n",
    "plt.xlabel('Residual stage');\n",
    "plt.show()"
   ]
  },
  {
   "cell_type": "code",
   "execution_count": 96,
   "metadata": {},
   "outputs": [
    {
     "data": {
      "image/png": "[encoded data removed]",
      "text/plain": [
       "<Figure size 640x480 with 1 Axes>"
      ]
     },
     "metadata": {},
     "output_type": "display_data"
    }
   ],
   "source": [
    "plt.hist(residual_discharge, density=True, bins = 50)\n",
    "plt.ylabel('Count')\n",
    "plt.xlabel('Residual discharge');\n",
    "plt.show()"
   ]
  },
  {
   "cell_type": "code",
   "execution_count": 93,
   "metadata": {},
   "outputs": [
    {
     "name": "stdout",
     "output_type": "stream",
     "text": [
      "p-value: 0.0\n",
      "Hay evidencia de que los residuos no provienen de una distribución normal.\n"
     ]
    }
   ],
   "source": [
    "stat, pval = normal_ad(residual_stage)\n",
    "print(\"p-value:\", pval)\n",
    "\n",
    "if pval<0.05:\n",
    "    print(\"Hay evidencia de que los residuos no provienen de una distribución normal.\")\n",
    "else:\n",
    "    print(\"No hay evidencia para rechazar la hipótesis de que los residuos vienen de una distribución normal.\")"
   ]
  },
  {
   "cell_type": "code",
   "execution_count": 94,
   "metadata": {},
   "outputs": [
    {
     "name": "stdout",
     "output_type": "stream",
     "text": [
      "p-value: 0.0\n",
      "Hay evidencia de que los residuos no provienen de una distribución normal.\n"
     ]
    }
   ],
   "source": [
    "stat, pval = normal_ad(residual_discharge)\n",
    "print(\"p-value:\", pval)\n",
    "\n",
    "if pval < 0.05:\n",
    "    print(\"Hay evidencia de que los residuos no provienen de una distribución normal.\")\n",
    "else:\n",
    "    print(\"No hay evidencia para rechazar la hipótesis de que los residuos vienen de una distribución normal.\")\n"
   ]
  },
  {
   "cell_type": "markdown",
   "metadata": {},
   "source": [
    "## Visualize layers"
   ]
  },
  {
   "cell_type": "code",
   "execution_count": 95,
   "metadata": {},
   "outputs": [
    {
     "ename": "ValueError",
     "evalue": "Graph disconnected: cannot obtain value for tensor KerasTensor(type_spec=TensorSpec(shape=(None, 224, 224, 3), dtype=tf.float32, name='input_4'), name='input_4', description=\"created by layer 'input_4'\") at layer \"conv1_pad\". The following previous layers were accessed without issue: []",
     "output_type": "error",
     "traceback": [
      "\u001b[0;31m---------------------------------------------------------------------------\u001b[0m",
      "\u001b[0;31mValueError\u001b[0m                                Traceback (most recent call last)",
      "Cell \u001b[0;32mIn [95], line 3\u001b[0m\n\u001b[1;32m      1\u001b[0m layer_outputs \u001b[39m=\u001b[39m [layer\u001b[39m.\u001b[39moutput \u001b[39mfor\u001b[39;00m layer \u001b[39min\u001b[39;00m best_model\u001b[39m.\u001b[39mlayers[:\u001b[39m12\u001b[39m]] \n\u001b[1;32m      2\u001b[0m \u001b[39m# Extracts the outputs of the top 12 layers\u001b[39;00m\n\u001b[0;32m----> 3\u001b[0m activation_model \u001b[39m=\u001b[39m models\u001b[39m.\u001b[39;49mModel(inputs\u001b[39m=\u001b[39;49mbest_model\u001b[39m.\u001b[39;49minput, outputs\u001b[39m=\u001b[39;49mlayer_outputs)\n",
      "File \u001b[0;32m~/miniconda3/envs/tf-gpu/lib/python3.10/site-packages/tensorflow/python/trackable/base.py:205\u001b[0m, in \u001b[0;36mno_automatic_dependency_tracking.<locals>._method_wrapper\u001b[0;34m(self, *args, **kwargs)\u001b[0m\n\u001b[1;32m    203\u001b[0m \u001b[39mself\u001b[39m\u001b[39m.\u001b[39m_self_setattr_tracking \u001b[39m=\u001b[39m \u001b[39mFalse\u001b[39;00m  \u001b[39m# pylint: disable=protected-access\u001b[39;00m\n\u001b[1;32m    204\u001b[0m \u001b[39mtry\u001b[39;00m:\n\u001b[0;32m--> 205\u001b[0m   result \u001b[39m=\u001b[39m method(\u001b[39mself\u001b[39;49m, \u001b[39m*\u001b[39;49margs, \u001b[39m*\u001b[39;49m\u001b[39m*\u001b[39;49mkwargs)\n\u001b[1;32m    206\u001b[0m \u001b[39mfinally\u001b[39;00m:\n\u001b[1;32m    207\u001b[0m   \u001b[39mself\u001b[39m\u001b[39m.\u001b[39m_self_setattr_tracking \u001b[39m=\u001b[39m previous_value  \u001b[39m# pylint: disable=protected-access\u001b[39;00m\n",
      "File \u001b[0;32m~/miniconda3/envs/tf-gpu/lib/python3.10/site-packages/keras/engine/functional.py:165\u001b[0m, in \u001b[0;36mFunctional.__init__\u001b[0;34m(self, inputs, outputs, name, trainable, **kwargs)\u001b[0m\n\u001b[1;32m    156\u001b[0m     \u001b[39mif\u001b[39;00m \u001b[39mnot\u001b[39;00m \u001b[39mall\u001b[39m(\n\u001b[1;32m    157\u001b[0m         [\n\u001b[1;32m    158\u001b[0m             functional_utils\u001b[39m.\u001b[39mis_input_keras_tensor(t)\n\u001b[1;32m    159\u001b[0m             \u001b[39mfor\u001b[39;00m t \u001b[39min\u001b[39;00m tf\u001b[39m.\u001b[39mnest\u001b[39m.\u001b[39mflatten(inputs)\n\u001b[1;32m    160\u001b[0m         ]\n\u001b[1;32m    161\u001b[0m     ):\n\u001b[1;32m    162\u001b[0m         inputs, outputs \u001b[39m=\u001b[39m functional_utils\u001b[39m.\u001b[39mclone_graph_nodes(\n\u001b[1;32m    163\u001b[0m             inputs, outputs\n\u001b[1;32m    164\u001b[0m         )\n\u001b[0;32m--> 165\u001b[0m \u001b[39mself\u001b[39;49m\u001b[39m.\u001b[39;49m_init_graph_network(inputs, outputs)\n",
      "File \u001b[0;32m~/miniconda3/envs/tf-gpu/lib/python3.10/site-packages/tensorflow/python/trackable/base.py:205\u001b[0m, in \u001b[0;36mno_automatic_dependency_tracking.<locals>._method_wrapper\u001b[0;34m(self, *args, **kwargs)\u001b[0m\n\u001b[1;32m    203\u001b[0m \u001b[39mself\u001b[39m\u001b[39m.\u001b[39m_self_setattr_tracking \u001b[39m=\u001b[39m \u001b[39mFalse\u001b[39;00m  \u001b[39m# pylint: disable=protected-access\u001b[39;00m\n\u001b[1;32m    204\u001b[0m \u001b[39mtry\u001b[39;00m:\n\u001b[0;32m--> 205\u001b[0m   result \u001b[39m=\u001b[39m method(\u001b[39mself\u001b[39;49m, \u001b[39m*\u001b[39;49margs, \u001b[39m*\u001b[39;49m\u001b[39m*\u001b[39;49mkwargs)\n\u001b[1;32m    206\u001b[0m \u001b[39mfinally\u001b[39;00m:\n\u001b[1;32m    207\u001b[0m   \u001b[39mself\u001b[39m\u001b[39m.\u001b[39m_self_setattr_tracking \u001b[39m=\u001b[39m previous_value  \u001b[39m# pylint: disable=protected-access\u001b[39;00m\n",
      "File \u001b[0;32m~/miniconda3/envs/tf-gpu/lib/python3.10/site-packages/keras/engine/functional.py:264\u001b[0m, in \u001b[0;36mFunctional._init_graph_network\u001b[0;34m(self, inputs, outputs)\u001b[0m\n\u001b[1;32m    261\u001b[0m     \u001b[39mself\u001b[39m\u001b[39m.\u001b[39m_input_coordinates\u001b[39m.\u001b[39mappend((layer, node_index, tensor_index))\n\u001b[1;32m    263\u001b[0m \u001b[39m# Keep track of the network's nodes and layers.\u001b[39;00m\n\u001b[0;32m--> 264\u001b[0m nodes, nodes_by_depth, layers, _ \u001b[39m=\u001b[39m _map_graph_network(\n\u001b[1;32m    265\u001b[0m     \u001b[39mself\u001b[39;49m\u001b[39m.\u001b[39;49minputs, \u001b[39mself\u001b[39;49m\u001b[39m.\u001b[39;49moutputs\n\u001b[1;32m    266\u001b[0m )\n\u001b[1;32m    267\u001b[0m \u001b[39mself\u001b[39m\u001b[39m.\u001b[39m_network_nodes \u001b[39m=\u001b[39m nodes\n\u001b[1;32m    268\u001b[0m \u001b[39mself\u001b[39m\u001b[39m.\u001b[39m_nodes_by_depth \u001b[39m=\u001b[39m nodes_by_depth\n",
      "File \u001b[0;32m~/miniconda3/envs/tf-gpu/lib/python3.10/site-packages/keras/engine/functional.py:1128\u001b[0m, in \u001b[0;36m_map_graph_network\u001b[0;34m(inputs, outputs)\u001b[0m\n\u001b[1;32m   1126\u001b[0m \u001b[39mfor\u001b[39;00m x \u001b[39min\u001b[39;00m tf\u001b[39m.\u001b[39mnest\u001b[39m.\u001b[39mflatten(node\u001b[39m.\u001b[39mkeras_inputs):\n\u001b[1;32m   1127\u001b[0m     \u001b[39mif\u001b[39;00m \u001b[39mid\u001b[39m(x) \u001b[39mnot\u001b[39;00m \u001b[39min\u001b[39;00m computable_tensors:\n\u001b[0;32m-> 1128\u001b[0m         \u001b[39mraise\u001b[39;00m \u001b[39mValueError\u001b[39;00m(\n\u001b[1;32m   1129\u001b[0m             \u001b[39mf\u001b[39m\u001b[39m\"\u001b[39m\u001b[39mGraph disconnected: cannot obtain value for \u001b[39m\u001b[39m\"\u001b[39m\n\u001b[1;32m   1130\u001b[0m             \u001b[39mf\u001b[39m\u001b[39m'\u001b[39m\u001b[39mtensor \u001b[39m\u001b[39m{\u001b[39;00mx\u001b[39m}\u001b[39;00m\u001b[39m at layer \u001b[39m\u001b[39m\"\u001b[39m\u001b[39m{\u001b[39;00mlayer\u001b[39m.\u001b[39mname\u001b[39m}\u001b[39;00m\u001b[39m\"\u001b[39m\u001b[39m. \u001b[39m\u001b[39m'\u001b[39m\n\u001b[1;32m   1131\u001b[0m             \u001b[39m\"\u001b[39m\u001b[39mThe following previous layers were accessed \u001b[39m\u001b[39m\"\u001b[39m\n\u001b[1;32m   1132\u001b[0m             \u001b[39mf\u001b[39m\u001b[39m\"\u001b[39m\u001b[39mwithout issue: \u001b[39m\u001b[39m{\u001b[39;00mlayers_with_complete_input\u001b[39m}\u001b[39;00m\u001b[39m\"\u001b[39m\n\u001b[1;32m   1133\u001b[0m         )\n\u001b[1;32m   1134\u001b[0m \u001b[39mfor\u001b[39;00m x \u001b[39min\u001b[39;00m tf\u001b[39m.\u001b[39mnest\u001b[39m.\u001b[39mflatten(node\u001b[39m.\u001b[39moutputs):\n\u001b[1;32m   1135\u001b[0m     computable_tensors\u001b[39m.\u001b[39madd(\u001b[39mid\u001b[39m(x))\n",
      "\u001b[0;31mValueError\u001b[0m: Graph disconnected: cannot obtain value for tensor KerasTensor(type_spec=TensorSpec(shape=(None, 224, 224, 3), dtype=tf.float32, name='input_4'), name='input_4', description=\"created by layer 'input_4'\") at layer \"conv1_pad\". The following previous layers were accessed without issue: []"
     ]
    }
   ],
   "source": [
    "layer_outputs = [layer.output for layer in best_model.layers[:12]] \n",
    "# Extracts the outputs of the top 12 layers\n",
    "activation_model = models.Model(inputs=best_model.input, outputs=layer_outputs) # Creates a model that will return these outputs, given the model input"
   ]
  },
  {
   "cell_type": "code",
   "execution_count": null,
   "metadata": {},
   "outputs": [
    {
     "ename": "",
     "evalue": "",
     "output_type": "error",
     "traceback": [
      "\u001b[1;31mRunning cells with 'Python 3.9.13 ('tf-metal')' requires ipykernel package.\n",
      "\u001b[1;31mRun the following command to install 'ipykernel' into the Python environment. \n",
      "\u001b[1;31mCommand: 'conda install -n tf-metal ipykernel --update-deps --force-reinstall'"
     ]
    }
   ],
   "source": [
    "activations = activation_model.predict(test_ds.take(1)) "
   ]
  },
  {
   "cell_type": "code",
   "execution_count": null,
   "metadata": {},
   "outputs": [
    {
     "ename": "",
     "evalue": "",
     "output_type": "error",
     "traceback": [
      "\u001b[1;31mRunning cells with 'Python 3.9.13 ('tf-metal')' requires ipykernel package.\n",
      "\u001b[1;31mRun the following command to install 'ipykernel' into the Python environment. \n",
      "\u001b[1;31mCommand: 'conda install -n tf-metal ipykernel --update-deps --force-reinstall'"
     ]
    }
   ],
   "source": [
    "import matplotlib.pyplot as plt\n",
    "\n",
    "layer_names = []\n",
    "for layer in best_model.layers[:12]:\n",
    "    layer_names.append(layer.name) # Names of the layers, so you can have them as part of your plot\n",
    "    \n",
    "images_per_row = 16\n",
    "\n",
    "for layer_name, layer_activation in zip(layer_names, activations): # Displays the feature maps\n",
    "    n_features = layer_activation.shape[-1] # Number of features in the feature map\n",
    "    size = layer_activation.shape[1] #The feature map has shape (1, size, size, n_features).\n",
    "    n_cols = n_features // images_per_row # Tiles the activation channels in this matrix\n",
    "    display_grid = np.zeros((size * n_cols, images_per_row * size))\n",
    "    \n",
    "    print(layer_name)\n",
    "    if \"flatten\" in layer_name or \"dense\" in layer_name: break\n",
    "\n",
    "    for col in range(n_cols): # Tiles each filter into a big horizontal grid\n",
    "        for row in range(images_per_row):\n",
    "            channel_image = layer_activation[0,\n",
    "                                             :, :,\n",
    "                                             col * images_per_row + row]\n",
    "            channel_image -= channel_image.mean() # Post-processes the feature to make it visually palatable\n",
    "            channel_image /= channel_image.std()\n",
    "            channel_image *= 64\n",
    "            channel_image += 128\n",
    "            channel_image = np.clip(channel_image, 0, 255).astype('uint8')\n",
    "            display_grid[col * size : (col + 1) * size, # Displays the grid\n",
    "                         row * size : (row + 1) * size] = channel_image\n",
    "    scale = 1. / size\n",
    "    plt.figure(figsize=(scale * display_grid.shape[1],\n",
    "                        scale * display_grid.shape[0]))\n",
    "    plt.title(layer_name)\n",
    "    plt.grid(False)\n",
    "    plt.imshow(display_grid, aspect='auto', cmap='viridis')"
   ]
  }
 ],
 "metadata": {
  "kernelspec": {
   "display_name": "Python 3.10.6 ('tf-gpu')",
   "language": "python",
   "name": "python3"
  },
  "language_info": {
   "codemirror_mode": {
    "name": "ipython",
    "version": 3
   },
   "file_extension": ".py",
   "mimetype": "text/x-python",
   "name": "python",
   "nbconvert_exporter": "python",
   "pygments_lexer": "ipython3",
   "version": "3.10.6"
  },
  "vscode": {
   "interpreter": {
    "hash": "79f576286c1276b480d6696ed40f6607e18214e4a2875a618cb5be817ff26007"
   }
  }
 },
 "nbformat": 4,
 "nbformat_minor": 2
}
